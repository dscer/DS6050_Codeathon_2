{
  "cells": [
    {
      "cell_type": "markdown",
      "metadata": {
        "id": "Ic4_occAAiAT"
      },
      "source": [
        "##### Copyright 2019 The TensorFlow Authors."
      ]
    },
    {
      "cell_type": "code",
      "execution_count": null,
      "metadata": {
        "cellView": "form",
        "execution": {
          "iopub.execute_input": "2023-09-28T07:21:27.060180Z",
          "iopub.status.busy": "2023-09-28T07:21:27.059640Z",
          "iopub.status.idle": "2023-09-28T07:21:27.063222Z",
          "shell.execute_reply": "2023-09-28T07:21:27.062644Z"
        },
        "id": "ioaprt5q5US7"
      },
      "outputs": [],
      "source": [
        "#@title Licensed under the Apache License, Version 2.0 (the \"License\");\n",
        "# you may not use this file except in compliance with the License.\n",
        "# You may obtain a copy of the License at\n",
        "#\n",
        "# https://www.apache.org/licenses/LICENSE-2.0\n",
        "#\n",
        "# Unless required by applicable law or agreed to in writing, software\n",
        "# distributed under the License is distributed on an \"AS IS\" BASIS,\n",
        "# WITHOUT WARRANTIES OR CONDITIONS OF ANY KIND, either express or implied.\n",
        "# See the License for the specific language governing permissions and\n",
        "# limitations under the License."
      ]
    },
    {
      "cell_type": "code",
      "execution_count": null,
      "metadata": {
        "cellView": "form",
        "execution": {
          "iopub.execute_input": "2023-09-28T07:21:27.066545Z",
          "iopub.status.busy": "2023-09-28T07:21:27.065995Z",
          "iopub.status.idle": "2023-09-28T07:21:27.069446Z",
          "shell.execute_reply": "2023-09-28T07:21:27.068883Z"
        },
        "id": "yCl0eTNH5RS3"
      },
      "outputs": [],
      "source": [
        "#@title MIT License\n",
        "#\n",
        "# Copyright (c) 2017 François Chollet\n",
        "#\n",
        "# Permission is hereby granted, free of charge, to any person obtaining a\n",
        "# copy of this software and associated documentation files (the \"Software\"),\n",
        "# to deal in the Software without restriction, including without limitation\n",
        "# the rights to use, copy, modify, merge, publish, distribute, sublicense,\n",
        "# and/or sell copies of the Software, and to permit persons to whom the\n",
        "# Software is furnished to do so, subject to the following conditions:\n",
        "#\n",
        "# The above copyright notice and this permission notice shall be included in\n",
        "# all copies or substantial portions of the Software.\n",
        "#\n",
        "# THE SOFTWARE IS PROVIDED \"AS IS\", WITHOUT WARRANTY OF ANY KIND, EXPRESS OR\n",
        "# IMPLIED, INCLUDING BUT NOT LIMITED TO THE WARRANTIES OF MERCHANTABILITY,\n",
        "# FITNESS FOR A PARTICULAR PURPOSE AND NONINFRINGEMENT. IN NO EVENT SHALL\n",
        "# THE AUTHORS OR COPYRIGHT HOLDERS BE LIABLE FOR ANY CLAIM, DAMAGES OR OTHER\n",
        "# LIABILITY, WHETHER IN AN ACTION OF CONTRACT, TORT OR OTHERWISE, ARISING\n",
        "# FROM, OUT OF OR IN CONNECTION WITH THE SOFTWARE OR THE USE OR OTHER\n",
        "# DEALINGS IN THE SOFTWARE."
      ]
    },
    {
      "cell_type": "markdown",
      "metadata": {
        "id": "ItXfxkxvosLH"
      },
      "source": [
        "# Basic text classification"
      ]
    },
    {
      "cell_type": "markdown",
      "metadata": {
        "id": "hKY4XMc9o8iB"
      },
      "source": [
        "<table class=\"tfo-notebook-buttons\" align=\"left\">\n",
        "  <td>\n",
        "    <a target=\"_blank\" href=\"https://www.tensorflow.org/tutorials/keras/text_classification\"><img src=\"https://www.tensorflow.org/images/tf_logo_32px.png\" />View on TensorFlow.org</a>\n",
        "  </td>\n",
        "  <td>\n",
        "    <a target=\"_blank\" href=\"https://colab.research.google.com/github/tensorflow/docs/blob/master/site/en/tutorials/keras/text_classification.ipynb\"><img src=\"https://www.tensorflow.org/images/colab_logo_32px.png\" />Run in Google Colab</a>\n",
        "  </td>\n",
        "  <td>\n",
        "    <a target=\"_blank\" href=\"https://github.com/tensorflow/docs/blob/master/site/en/tutorials/keras/text_classification.ipynb\"><img src=\"https://www.tensorflow.org/images/GitHub-Mark-32px.png\" />View source on GitHub</a>\n",
        "  </td>\n",
        "  <td>\n",
        "    <a href=\"https://storage.googleapis.com/tensorflow_docs/docs/site/en/tutorials/keras/text_classification.ipynb\"><img src=\"https://www.tensorflow.org/images/download_logo_32px.png\" />Download notebook</a>\n",
        "  </td>\n",
        "</table>"
      ]
    },
    {
      "cell_type": "markdown",
      "metadata": {
        "id": "Eg62Pmz3o83v"
      },
      "source": [
        "This tutorial demonstrates text classification starting from plain text files stored on disk. You'll train a binary classifier to perform sentiment analysis on an IMDB dataset. At the end of the notebook, there is an exercise for you to try, in which you'll train a multi-class classifier to predict the tag for a programming question on Stack Overflow.\n"
      ]
    },
    {
      "cell_type": "code",
      "execution_count": 1,
      "metadata": {
        "execution": {
          "iopub.execute_input": "2023-09-28T07:21:27.072506Z",
          "iopub.status.busy": "2023-09-28T07:21:27.072298Z",
          "iopub.status.idle": "2023-09-28T07:21:29.698448Z",
          "shell.execute_reply": "2023-09-28T07:21:29.697662Z"
        },
        "id": "8RZOuS9LWQvv"
      },
      "outputs": [],
      "source": [
        "import matplotlib.pyplot as plt\n",
        "import os\n",
        "import re\n",
        "import shutil\n",
        "import string\n",
        "import tensorflow as tf\n",
        "\n",
        "from tensorflow.keras import layers\n",
        "from tensorflow.keras import losses"
      ]
    },
    {
      "cell_type": "code",
      "execution_count": 2,
      "metadata": {
        "execution": {
          "iopub.execute_input": "2023-09-28T07:21:29.703311Z",
          "iopub.status.busy": "2023-09-28T07:21:29.702425Z",
          "iopub.status.idle": "2023-09-28T07:21:29.706348Z",
          "shell.execute_reply": "2023-09-28T07:21:29.705730Z"
        },
        "id": "6-tTFS04dChr",
        "outputId": "29be8feb-2546-4889-f2b5-de7baa19f593",
        "colab": {
          "base_uri": "https://localhost:8080/"
        }
      },
      "outputs": [
        {
          "output_type": "stream",
          "name": "stdout",
          "text": [
            "2.14.0\n"
          ]
        }
      ],
      "source": [
        "print(tf.__version__)"
      ]
    },
    {
      "cell_type": "markdown",
      "metadata": {
        "id": "NBTI1bi8qdFV"
      },
      "source": [
        "## Sentiment analysis\n",
        "\n",
        "This notebook trains a sentiment analysis model to classify movie reviews as *positive* or *negative*, based on the text of the review. This is an example of *binary*—or two-class—classification, an important and widely applicable kind of machine learning problem.\n",
        "\n",
        "You'll use the [Large Movie Review Dataset](https://ai.stanford.edu/~amaas/data/sentiment/) that contains the text of 50,000 movie reviews from the [Internet Movie Database](https://www.imdb.com/). These are split into 25,000 reviews for training and 25,000 reviews for testing. The training and testing sets are *balanced*, meaning they contain an equal number of positive and negative reviews.\n"
      ]
    },
    {
      "cell_type": "markdown",
      "metadata": {
        "id": "iAsKG535pHep"
      },
      "source": [
        "### Download and explore the IMDB dataset\n",
        "\n",
        "Let's download and extract the dataset, then explore the directory structure."
      ]
    },
    {
      "cell_type": "code",
      "execution_count": 3,
      "metadata": {
        "execution": {
          "iopub.execute_input": "2023-09-28T07:21:29.710144Z",
          "iopub.status.busy": "2023-09-28T07:21:29.709591Z",
          "iopub.status.idle": "2023-09-28T07:21:51.487574Z",
          "shell.execute_reply": "2023-09-28T07:21:51.486814Z"
        },
        "id": "k7ZYnuajVlFN",
        "outputId": "6ade5fd0-7861-47a5-96db-7159eab168a1",
        "colab": {
          "base_uri": "https://localhost:8080/"
        }
      },
      "outputs": [
        {
          "output_type": "stream",
          "name": "stdout",
          "text": [
            "Downloading data from https://ai.stanford.edu/~amaas/data/sentiment/aclImdb_v1.tar.gz\n",
            "84125825/84125825 [==============================] - 16s 0us/step\n"
          ]
        }
      ],
      "source": [
        "url = \"https://ai.stanford.edu/~amaas/data/sentiment/aclImdb_v1.tar.gz\"\n",
        "\n",
        "dataset = tf.keras.utils.get_file(\"aclImdb_v1\", url,\n",
        "                                    untar=True, cache_dir='.',\n",
        "                                    cache_subdir='')\n",
        "\n",
        "dataset_dir = os.path.join(os.path.dirname(dataset), 'aclImdb')"
      ]
    },
    {
      "cell_type": "code",
      "execution_count": 4,
      "metadata": {
        "execution": {
          "iopub.execute_input": "2023-09-28T07:21:51.491875Z",
          "iopub.status.busy": "2023-09-28T07:21:51.491363Z",
          "iopub.status.idle": "2023-09-28T07:21:51.497753Z",
          "shell.execute_reply": "2023-09-28T07:21:51.497197Z"
        },
        "id": "355CfOvsV1pl",
        "outputId": "34ecace8-2cfc-46ab-ca63-cf6a10b1ebee",
        "colab": {
          "base_uri": "https://localhost:8080/"
        }
      },
      "outputs": [
        {
          "output_type": "execute_result",
          "data": {
            "text/plain": [
              "['test', 'README', 'train', 'imdbEr.txt', 'imdb.vocab']"
            ]
          },
          "metadata": {},
          "execution_count": 4
        }
      ],
      "source": [
        "os.listdir(dataset_dir)"
      ]
    },
    {
      "cell_type": "code",
      "execution_count": 5,
      "metadata": {
        "execution": {
          "iopub.execute_input": "2023-09-28T07:21:51.500906Z",
          "iopub.status.busy": "2023-09-28T07:21:51.500381Z",
          "iopub.status.idle": "2023-09-28T07:21:51.504718Z",
          "shell.execute_reply": "2023-09-28T07:21:51.504149Z"
        },
        "id": "7ASND15oXpF1",
        "outputId": "bb23f1e2-ed7d-4b22-d488-ede9977fdbe4",
        "colab": {
          "base_uri": "https://localhost:8080/"
        }
      },
      "outputs": [
        {
          "output_type": "execute_result",
          "data": {
            "text/plain": [
              "['neg',\n",
              " 'unsupBow.feat',\n",
              " 'urls_unsup.txt',\n",
              " 'urls_neg.txt',\n",
              " 'labeledBow.feat',\n",
              " 'pos',\n",
              " 'urls_pos.txt',\n",
              " 'unsup']"
            ]
          },
          "metadata": {},
          "execution_count": 5
        }
      ],
      "source": [
        "train_dir = os.path.join(dataset_dir, 'train')\n",
        "os.listdir(train_dir)"
      ]
    },
    {
      "cell_type": "markdown",
      "metadata": {
        "id": "ysMNMI1CWDFD"
      },
      "source": [
        "The `aclImdb/train/pos` and `aclImdb/train/neg` directories contain many text files, each of which is a single movie review. Let's take a look at one of them."
      ]
    },
    {
      "cell_type": "code",
      "execution_count": 6,
      "metadata": {
        "execution": {
          "iopub.execute_input": "2023-09-28T07:21:51.507898Z",
          "iopub.status.busy": "2023-09-28T07:21:51.507371Z",
          "iopub.status.idle": "2023-09-28T07:21:51.511225Z",
          "shell.execute_reply": "2023-09-28T07:21:51.510606Z"
        },
        "id": "R7g8hFvzWLIZ",
        "outputId": "9e20f81a-1599-4c64-bb49-dbd874abb197",
        "colab": {
          "base_uri": "https://localhost:8080/"
        }
      },
      "outputs": [
        {
          "output_type": "stream",
          "name": "stdout",
          "text": [
            "Rachel Griffiths writes and directs this award winning short film. A heartwarming story about coping with grief and cherishing the memory of those we've loved and lost. Although, only 15 minutes long, Griffiths manages to capture so much emotion and truth onto film in the short space of time. Bud Tingwell gives a touching performance as Will, a widower struggling to cope with his wife's death. Will is confronted by the harsh reality of loneliness and helplessness as he proceeds to take care of Ruth's pet cow, Tulip. The film displays the grief and responsibility one feels for those they have loved and lost. Good cinematography, great direction, and superbly acted. It will bring tears to all those who have lost a loved one, and survived.\n"
          ]
        }
      ],
      "source": [
        "sample_file = os.path.join(train_dir, 'pos/1181_9.txt')\n",
        "with open(sample_file) as f:\n",
        "  print(f.read())"
      ]
    },
    {
      "cell_type": "markdown",
      "metadata": {
        "id": "Mk20TEm6ZRFP"
      },
      "source": [
        "### Load the dataset\n",
        "\n",
        "Next, you will load the data off disk and prepare it into a format suitable for training. To do so, you will use the helpful [text_dataset_from_directory](https://www.tensorflow.org/api_docs/python/tf/keras/preprocessing/text_dataset_from_directory) utility, which expects a directory structure as follows.\n",
        "\n",
        "```\n",
        "main_directory/\n",
        "...class_a/\n",
        "......a_text_1.txt\n",
        "......a_text_2.txt\n",
        "...class_b/\n",
        "......b_text_1.txt\n",
        "......b_text_2.txt\n",
        "```"
      ]
    },
    {
      "cell_type": "markdown",
      "metadata": {
        "id": "nQauv38Lnok3"
      },
      "source": [
        "To prepare a dataset for binary classification, you will need two folders on disk, corresponding to `class_a` and `class_b`. These will be the positive and negative movie reviews, which can be found in  `aclImdb/train/pos` and `aclImdb/train/neg`. As the IMDB dataset contains additional folders, you will remove them before using this utility."
      ]
    },
    {
      "cell_type": "code",
      "execution_count": 7,
      "metadata": {
        "execution": {
          "iopub.execute_input": "2023-09-28T07:21:51.514367Z",
          "iopub.status.busy": "2023-09-28T07:21:51.513912Z",
          "iopub.status.idle": "2023-09-28T07:21:52.328966Z",
          "shell.execute_reply": "2023-09-28T07:21:52.327581Z"
        },
        "id": "VhejsClzaWfl"
      },
      "outputs": [],
      "source": [
        "remove_dir = os.path.join(train_dir, 'unsup')\n",
        "shutil.rmtree(remove_dir)"
      ]
    },
    {
      "cell_type": "markdown",
      "metadata": {
        "id": "95kkUdRoaeMw"
      },
      "source": [
        "Next, you will use the `text_dataset_from_directory` utility to create a labeled `tf.data.Dataset`. [tf.data](https://www.tensorflow.org/guide/data) is a powerful collection of tools for working with data.\n",
        "\n",
        "When running a machine learning experiment, it is a best practice to divide your dataset into three splits: [train](https://developers.google.com/machine-learning/glossary#training_set), [validation](https://developers.google.com/machine-learning/glossary#validation_set), and [test](https://developers.google.com/machine-learning/glossary#test-set).\n",
        "\n",
        "The IMDB dataset has already been divided into train and test, but it lacks a validation set. Let's create a validation set using an 80:20 split of the training data by using the `validation_split` argument below."
      ]
    },
    {
      "cell_type": "code",
      "execution_count": 8,
      "metadata": {
        "execution": {
          "iopub.execute_input": "2023-09-28T07:21:52.333494Z",
          "iopub.status.busy": "2023-09-28T07:21:52.332978Z",
          "iopub.status.idle": "2023-09-28T07:21:54.129077Z",
          "shell.execute_reply": "2023-09-28T07:21:54.128403Z"
        },
        "id": "nOrK-MTYaw3C",
        "outputId": "4d8fddb3-d257-4960-ef2f-82e09c957023",
        "colab": {
          "base_uri": "https://localhost:8080/"
        }
      },
      "outputs": [
        {
          "output_type": "stream",
          "name": "stdout",
          "text": [
            "Found 25000 files belonging to 2 classes.\n",
            "Using 20000 files for training.\n"
          ]
        }
      ],
      "source": [
        "batch_size = 32\n",
        "seed = 42\n",
        "\n",
        "raw_train_ds = tf.keras.utils.text_dataset_from_directory(\n",
        "    'aclImdb/train',\n",
        "    batch_size=batch_size,\n",
        "    validation_split=0.2,\n",
        "    subset='training',\n",
        "    seed=seed)"
      ]
    },
    {
      "cell_type": "markdown",
      "metadata": {
        "id": "5Y33oxOUpYkh"
      },
      "source": [
        "As you can see above, there are 25,000 examples in the training folder, of which you will use 80% (or 20,000) for training. As you will see in a moment, you can train a model by passing a dataset directly to `model.fit`. If you're new to `tf.data`, you can also iterate over the dataset and print out a few examples as follows."
      ]
    },
    {
      "cell_type": "code",
      "execution_count": null,
      "metadata": {
        "execution": {
          "iopub.execute_input": "2023-09-28T07:21:54.132674Z",
          "iopub.status.busy": "2023-09-28T07:21:54.132434Z",
          "iopub.status.idle": "2023-09-28T07:21:54.157983Z",
          "shell.execute_reply": "2023-09-28T07:21:54.157280Z"
        },
        "id": "51wNaPPApk1K",
        "outputId": "b8b04164-376c-43a9-b419-08782993718a",
        "colab": {
          "base_uri": "https://localhost:8080/"
        }
      },
      "outputs": [
        {
          "output_type": "stream",
          "name": "stdout",
          "text": [
            "Review b'\"Pandemonium\" is a horror movie spoof that comes off more stupid than funny. Believe me when I tell you, I love comedies. Especially comedy spoofs. \"Airplane\", \"The Naked Gun\" trilogy, \"Blazing Saddles\", \"High Anxiety\", and \"Spaceballs\" are some of my favorite comedies that spoof a particular genre. \"Pandemonium\" is not up there with those films. Most of the scenes in this movie had me sitting there in stunned silence because the movie wasn\\'t all that funny. There are a few laughs in the film, but when you watch a comedy, you expect to laugh a lot more than a few times and that\\'s all this film has going for it. Geez, \"Scream\" had more laughs than this film and that was more of a horror film. How bizarre is that?<br /><br />*1/2 (out of four)'\n",
            "Label 0\n",
            "Review b\"David Mamet is a very interesting and a very un-equal director. His first movie 'House of Games' was the one I liked best, and it set a series of films with characters whose perspective of life changes as they get into complicated situations, and so does the perspective of the viewer.<br /><br />So is 'Homicide' which from the title tries to set the mind of the viewer to the usual crime drama. The principal characters are two cops, one Jewish and one Irish who deal with a racially charged area. The murder of an old Jewish shop owner who proves to be an ancient veteran of the Israeli Independence war triggers the Jewish identity in the mind and heart of the Jewish detective.<br /><br />This is were the flaws of the film are the more obvious. The process of awakening is theatrical and hard to believe, the group of Jewish militants is operatic, and the way the detective eventually walks to the final violent confrontation is pathetic. The end of the film itself is Mamet-like smart, but disappoints from a human emotional perspective.<br /><br />Joe Mantegna and William Macy give strong performances, but the flaws of the story are too evident to be easily compensated.\"\n",
            "Label 0\n",
            "Review b'Great documentary about the lives of NY firefighters during the worst terrorist attack of all time.. That reason alone is why this should be a must see collectors item.. What shocked me was not only the attacks, but the\"High Fat Diet\" and physical appearance of some of these firefighters. I think a lot of Doctors would agree with me that,in the physical shape they were in, some of these firefighters would NOT of made it to the 79th floor carrying over 60 lbs of gear. Having said that i now have a greater respect for firefighters and i realize becoming a firefighter is a life altering job. The French have a history of making great documentary\\'s and that is what this is, a Great Documentary.....'\n",
            "Label 1\n"
          ]
        }
      ],
      "source": [
        "for text_batch, label_batch in raw_train_ds.take(1):\n",
        "  for i in range(3):\n",
        "    print(\"Review\", text_batch.numpy()[i])\n",
        "    print(\"Label\", label_batch.numpy()[i])"
      ]
    },
    {
      "cell_type": "markdown",
      "metadata": {
        "id": "JWq1SUIrp1a-"
      },
      "source": [
        "Notice the reviews contain raw text (with punctuation and occasional HTML tags like `<br/>`). You will show how to handle these in the following section.\n",
        "\n",
        "The labels are 0 or 1. To see which of these correspond to positive and negative movie reviews, you can check the `class_names` property on the dataset.\n"
      ]
    },
    {
      "cell_type": "code",
      "execution_count": null,
      "metadata": {
        "execution": {
          "iopub.execute_input": "2023-09-28T07:21:54.161377Z",
          "iopub.status.busy": "2023-09-28T07:21:54.160932Z",
          "iopub.status.idle": "2023-09-28T07:21:54.164730Z",
          "shell.execute_reply": "2023-09-28T07:21:54.164051Z"
        },
        "id": "MlICTG8spyO2",
        "outputId": "48378aca-3084-4aa9-ce13-bae910b7a722",
        "colab": {
          "base_uri": "https://localhost:8080/"
        }
      },
      "outputs": [
        {
          "output_type": "stream",
          "name": "stdout",
          "text": [
            "Label 0 corresponds to neg\n",
            "Label 1 corresponds to pos\n"
          ]
        }
      ],
      "source": [
        "print(\"Label 0 corresponds to\", raw_train_ds.class_names[0])\n",
        "print(\"Label 1 corresponds to\", raw_train_ds.class_names[1])"
      ]
    },
    {
      "cell_type": "markdown",
      "metadata": {
        "id": "pbdO39vYqdJr"
      },
      "source": [
        "Next, you will create a validation and test dataset. You will use the remaining 5,000 reviews from the training set for validation."
      ]
    },
    {
      "cell_type": "markdown",
      "metadata": {
        "id": "SzxazN8Hq1pF"
      },
      "source": [
        "Note:  When using the `validation_split` and `subset` arguments, make sure to either specify a random seed, or to pass `shuffle=False`, so that the validation and training splits have no overlap."
      ]
    },
    {
      "cell_type": "code",
      "execution_count": null,
      "metadata": {
        "execution": {
          "iopub.execute_input": "2023-09-28T07:21:54.168175Z",
          "iopub.status.busy": "2023-09-28T07:21:54.167515Z",
          "iopub.status.idle": "2023-09-28T07:21:55.330414Z",
          "shell.execute_reply": "2023-09-28T07:21:55.329721Z"
        },
        "id": "JsMwwhOoqjKF",
        "outputId": "832efb98-c144-4989-b4bf-eb8b7cc7a70a",
        "colab": {
          "base_uri": "https://localhost:8080/"
        }
      },
      "outputs": [
        {
          "output_type": "stream",
          "name": "stdout",
          "text": [
            "Found 25000 files belonging to 2 classes.\n",
            "Using 5000 files for validation.\n"
          ]
        }
      ],
      "source": [
        "raw_val_ds = tf.keras.utils.text_dataset_from_directory(\n",
        "    'aclImdb/train',\n",
        "    batch_size=batch_size,\n",
        "    validation_split=0.2,\n",
        "    subset='validation',\n",
        "    seed=seed)"
      ]
    },
    {
      "cell_type": "code",
      "execution_count": null,
      "metadata": {
        "execution": {
          "iopub.execute_input": "2023-09-28T07:21:55.333704Z",
          "iopub.status.busy": "2023-09-28T07:21:55.333464Z",
          "iopub.status.idle": "2023-09-28T07:21:56.534749Z",
          "shell.execute_reply": "2023-09-28T07:21:56.534084Z"
        },
        "id": "rdSr0Nt3q_ns",
        "outputId": "198747b8-cade-4daa-8e00-4c3107e31c82",
        "colab": {
          "base_uri": "https://localhost:8080/"
        }
      },
      "outputs": [
        {
          "output_type": "stream",
          "name": "stdout",
          "text": [
            "Found 25000 files belonging to 2 classes.\n"
          ]
        }
      ],
      "source": [
        "raw_test_ds = tf.keras.utils.text_dataset_from_directory(\n",
        "    'aclImdb/test',\n",
        "    batch_size=batch_size)"
      ]
    },
    {
      "cell_type": "markdown",
      "metadata": {
        "id": "qJmTiO0IYAjm"
      },
      "source": [
        "### Prepare the dataset for training\n",
        "\n",
        "Next, you will standardize, tokenize, and vectorize the data using the helpful `tf.keras.layers.TextVectorization` layer.\n",
        "\n",
        "Standardization refers to preprocessing the text, typically to remove punctuation or HTML elements to simplify the dataset. Tokenization refers to splitting strings into tokens (for example, splitting a sentence into individual words, by splitting on whitespace). Vectorization refers to converting tokens into numbers so they can be fed into a neural network. All of these tasks can be accomplished with this layer.\n",
        "\n",
        "As you saw above, the reviews contain various HTML tags like `<br />`. These tags will not be removed by the default standardizer in the `TextVectorization` layer (which converts text to lowercase and strips punctuation by default, but doesn't strip HTML). You will write a custom standardization function to remove the HTML."
      ]
    },
    {
      "cell_type": "markdown",
      "metadata": {
        "id": "ZVcHl-SLrH-u"
      },
      "source": [
        "Note: To prevent [training-testing skew](https://developers.google.com/machine-learning/guides/rules-of-ml#training-serving_skew) (also known as training-serving skew), it is important to preprocess the data identically at train and test time. To facilitate this, the `TextVectorization` layer can be included directly inside your model, as shown later in this tutorial."
      ]
    },
    {
      "cell_type": "code",
      "execution_count": null,
      "metadata": {
        "execution": {
          "iopub.execute_input": "2023-09-28T07:21:56.538268Z",
          "iopub.status.busy": "2023-09-28T07:21:56.538018Z",
          "iopub.status.idle": "2023-09-28T07:21:56.541971Z",
          "shell.execute_reply": "2023-09-28T07:21:56.541389Z"
        },
        "id": "SDRI_s_tX1Hk"
      },
      "outputs": [],
      "source": [
        "def custom_standardization(input_data):\n",
        "  lowercase = tf.strings.lower(input_data)\n",
        "  stripped_html = tf.strings.regex_replace(lowercase, '<br />', ' ')\n",
        "  return tf.strings.regex_replace(stripped_html,\n",
        "                                  '[%s]' % re.escape(string.punctuation),\n",
        "                                  '')"
      ]
    },
    {
      "cell_type": "markdown",
      "metadata": {
        "id": "d2d3Aw8dsUux"
      },
      "source": [
        "Next, you will create a `TextVectorization` layer. You will use this layer to standardize, tokenize, and vectorize our data. You set the `output_mode` to `int` to create unique integer indices for each token.\n",
        "\n",
        "Note that you're using the default split function, and the custom standardization function you defined above. You'll also define some constants for the model, like an explicit maximum `sequence_length`, which will cause the layer to pad or truncate sequences to exactly `sequence_length` values."
      ]
    },
    {
      "cell_type": "code",
      "execution_count": null,
      "metadata": {
        "execution": {
          "iopub.execute_input": "2023-09-28T07:21:56.545285Z",
          "iopub.status.busy": "2023-09-28T07:21:56.544721Z",
          "iopub.status.idle": "2023-09-28T07:21:56.558777Z",
          "shell.execute_reply": "2023-09-28T07:21:56.558188Z"
        },
        "id": "-c76RvSzsMnX"
      },
      "outputs": [],
      "source": [
        "max_features = 10000\n",
        "sequence_length = 250\n",
        "\n",
        "vectorize_layer = layers.TextVectorization(\n",
        "    standardize=custom_standardization,\n",
        "    max_tokens=max_features,\n",
        "    output_mode='int',\n",
        "    output_sequence_length=sequence_length)"
      ]
    },
    {
      "cell_type": "markdown",
      "metadata": {
        "id": "vlFOpfF6scT6"
      },
      "source": [
        "Next, you will call `adapt` to fit the state of the preprocessing layer to the dataset. This will cause the model to build an index of strings to integers."
      ]
    },
    {
      "cell_type": "markdown",
      "metadata": {
        "id": "lAhdjK7AtroA"
      },
      "source": [
        "Note: It's important to only use your training data when calling adapt (using the test set would leak information)."
      ]
    },
    {
      "cell_type": "code",
      "execution_count": null,
      "metadata": {
        "execution": {
          "iopub.execute_input": "2023-09-28T07:21:56.562320Z",
          "iopub.status.busy": "2023-09-28T07:21:56.561847Z",
          "iopub.status.idle": "2023-09-28T07:21:58.501421Z",
          "shell.execute_reply": "2023-09-28T07:21:58.500588Z"
        },
        "id": "GH4_2ZGJsa_X"
      },
      "outputs": [],
      "source": [
        "# Make a text-only dataset (without labels), then call adapt\n",
        "train_text = raw_train_ds.map(lambda x, y: x)\n",
        "vectorize_layer.adapt(train_text)"
      ]
    },
    {
      "cell_type": "markdown",
      "metadata": {
        "id": "SHQVEFzNt-K_"
      },
      "source": [
        "Let's create a function to see the result of using this layer to preprocess some data."
      ]
    },
    {
      "cell_type": "code",
      "execution_count": null,
      "metadata": {
        "execution": {
          "iopub.execute_input": "2023-09-28T07:21:58.505672Z",
          "iopub.status.busy": "2023-09-28T07:21:58.505127Z",
          "iopub.status.idle": "2023-09-28T07:21:58.508831Z",
          "shell.execute_reply": "2023-09-28T07:21:58.508147Z"
        },
        "id": "SCIg_T50wOCU"
      },
      "outputs": [],
      "source": [
        "def vectorize_text(text, label):\n",
        "  text = tf.expand_dims(text, -1)\n",
        "  return vectorize_layer(text), label"
      ]
    },
    {
      "cell_type": "code",
      "execution_count": null,
      "metadata": {
        "execution": {
          "iopub.execute_input": "2023-09-28T07:21:58.512110Z",
          "iopub.status.busy": "2023-09-28T07:21:58.511589Z",
          "iopub.status.idle": "2023-09-28T07:21:58.558332Z",
          "shell.execute_reply": "2023-09-28T07:21:58.557687Z"
        },
        "id": "XULcm6B3xQIO",
        "outputId": "112391ac-6a69-4a67-f778-04066b1f7d35",
        "colab": {
          "base_uri": "https://localhost:8080/"
        }
      },
      "outputs": [
        {
          "output_type": "stream",
          "name": "stdout",
          "text": [
            "Review tf.Tensor(b'Great movie - especially the music - Etta James - \"At Last\". This speaks volumes when you have finally found that special someone.', shape=(), dtype=string)\n",
            "Label neg\n",
            "Vectorized review (<tf.Tensor: shape=(1, 250), dtype=int64, numpy=\n",
            "array([[  86,   17,  260,    2,  222,    1,  571,   31,  229,   11, 2418,\n",
            "           1,   51,   22,   25,  404,  251,   12,  306,  282,    0,    0,\n",
            "           0,    0,    0,    0,    0,    0,    0,    0,    0,    0,    0,\n",
            "           0,    0,    0,    0,    0,    0,    0,    0,    0,    0,    0,\n",
            "           0,    0,    0,    0,    0,    0,    0,    0,    0,    0,    0,\n",
            "           0,    0,    0,    0,    0,    0,    0,    0,    0,    0,    0,\n",
            "           0,    0,    0,    0,    0,    0,    0,    0,    0,    0,    0,\n",
            "           0,    0,    0,    0,    0,    0,    0,    0,    0,    0,    0,\n",
            "           0,    0,    0,    0,    0,    0,    0,    0,    0,    0,    0,\n",
            "           0,    0,    0,    0,    0,    0,    0,    0,    0,    0,    0,\n",
            "           0,    0,    0,    0,    0,    0,    0,    0,    0,    0,    0,\n",
            "           0,    0,    0,    0,    0,    0,    0,    0,    0,    0,    0,\n",
            "           0,    0,    0,    0,    0,    0,    0,    0,    0,    0,    0,\n",
            "           0,    0,    0,    0,    0,    0,    0,    0,    0,    0,    0,\n",
            "           0,    0,    0,    0,    0,    0,    0,    0,    0,    0,    0,\n",
            "           0,    0,    0,    0,    0,    0,    0,    0,    0,    0,    0,\n",
            "           0,    0,    0,    0,    0,    0,    0,    0,    0,    0,    0,\n",
            "           0,    0,    0,    0,    0,    0,    0,    0,    0,    0,    0,\n",
            "           0,    0,    0,    0,    0,    0,    0,    0,    0,    0,    0,\n",
            "           0,    0,    0,    0,    0,    0,    0,    0,    0,    0,    0,\n",
            "           0,    0,    0,    0,    0,    0,    0,    0,    0,    0,    0,\n",
            "           0,    0,    0,    0,    0,    0,    0,    0,    0,    0,    0,\n",
            "           0,    0,    0,    0,    0,    0,    0,    0]])>, <tf.Tensor: shape=(), dtype=int32, numpy=0>)\n"
          ]
        }
      ],
      "source": [
        "# retrieve a batch (of 32 reviews and labels) from the dataset\n",
        "text_batch, label_batch = next(iter(raw_train_ds))\n",
        "first_review, first_label = text_batch[0], label_batch[0]\n",
        "print(\"Review\", first_review)\n",
        "print(\"Label\", raw_train_ds.class_names[first_label])\n",
        "print(\"Vectorized review\", vectorize_text(first_review, first_label))"
      ]
    },
    {
      "cell_type": "markdown",
      "metadata": {
        "id": "6u5EX0hxyNZT"
      },
      "source": [
        "As you can see above, each token has been replaced by an integer. You can lookup the token (string) that each integer corresponds to by calling `.get_vocabulary()` on the layer."
      ]
    },
    {
      "cell_type": "code",
      "execution_count": null,
      "metadata": {
        "execution": {
          "iopub.execute_input": "2023-09-28T07:21:58.561778Z",
          "iopub.status.busy": "2023-09-28T07:21:58.561156Z",
          "iopub.status.idle": "2023-09-28T07:21:58.605113Z",
          "shell.execute_reply": "2023-09-28T07:21:58.604461Z"
        },
        "id": "kRq9hTQzhVhW",
        "outputId": "0d5350e9-69c4-491b-a743-eda10edacbad",
        "colab": {
          "base_uri": "https://localhost:8080/"
        }
      },
      "outputs": [
        {
          "output_type": "stream",
          "name": "stdout",
          "text": [
            "1287 --->  silent\n",
            " 313 --->  night\n",
            "Vocabulary size: 10000\n"
          ]
        }
      ],
      "source": [
        "print(\"1287 ---> \",vectorize_layer.get_vocabulary()[1287])\n",
        "print(\" 313 ---> \",vectorize_layer.get_vocabulary()[313])\n",
        "print('Vocabulary size: {}'.format(len(vectorize_layer.get_vocabulary())))"
      ]
    },
    {
      "cell_type": "markdown",
      "metadata": {
        "id": "XD2H6utRydGv"
      },
      "source": [
        "You are nearly ready to train your model. As a final preprocessing step, you will apply the TextVectorization layer you created earlier to the train, validation, and test dataset."
      ]
    },
    {
      "cell_type": "code",
      "execution_count": null,
      "metadata": {
        "execution": {
          "iopub.execute_input": "2023-09-28T07:21:58.608420Z",
          "iopub.status.busy": "2023-09-28T07:21:58.607841Z",
          "iopub.status.idle": "2023-09-28T07:21:58.738602Z",
          "shell.execute_reply": "2023-09-28T07:21:58.737983Z"
        },
        "id": "2zhmpeViI1iG"
      },
      "outputs": [],
      "source": [
        "train_ds = raw_train_ds.map(vectorize_text)\n",
        "val_ds = raw_val_ds.map(vectorize_text)\n",
        "test_ds = raw_test_ds.map(vectorize_text)"
      ]
    },
    {
      "cell_type": "markdown",
      "metadata": {
        "id": "YsVQyPMizjuO"
      },
      "source": [
        "### Configure the dataset for performance\n",
        "\n",
        "These are two important methods you should use when loading data to make sure that I/O does not become blocking.\n",
        "\n",
        "`.cache()` keeps data in memory after it's loaded off disk. This will ensure the dataset does not become a bottleneck while training your model. If your dataset is too large to fit into memory, you can also use this method to create a performant on-disk cache, which is more efficient to read than many small files.\n",
        "\n",
        "`.prefetch()` overlaps data preprocessing and model execution while training.\n",
        "\n",
        "You can learn more about both methods, as well as how to cache data to disk in the [data performance guide](https://www.tensorflow.org/guide/data_performance)."
      ]
    },
    {
      "cell_type": "code",
      "execution_count": null,
      "metadata": {
        "execution": {
          "iopub.execute_input": "2023-09-28T07:21:58.741970Z",
          "iopub.status.busy": "2023-09-28T07:21:58.741745Z",
          "iopub.status.idle": "2023-09-28T07:21:58.749866Z",
          "shell.execute_reply": "2023-09-28T07:21:58.749276Z"
        },
        "id": "wMcs_H7izm5m"
      },
      "outputs": [],
      "source": [
        "AUTOTUNE = tf.data.AUTOTUNE\n",
        "\n",
        "train_ds = train_ds.cache().prefetch(buffer_size=AUTOTUNE)\n",
        "val_ds = val_ds.cache().prefetch(buffer_size=AUTOTUNE)\n",
        "test_ds = test_ds.cache().prefetch(buffer_size=AUTOTUNE)"
      ]
    },
    {
      "cell_type": "markdown",
      "metadata": {
        "id": "LLC02j2g-llC"
      },
      "source": [
        "### Create the model\n",
        "\n",
        "It's time to create your neural network:"
      ]
    },
    {
      "cell_type": "code",
      "execution_count": null,
      "metadata": {
        "execution": {
          "iopub.execute_input": "2023-09-28T07:21:58.753501Z",
          "iopub.status.busy": "2023-09-28T07:21:58.752858Z",
          "iopub.status.idle": "2023-09-28T07:21:58.755988Z",
          "shell.execute_reply": "2023-09-28T07:21:58.755380Z"
        },
        "id": "dkQP6in8yUBR"
      },
      "outputs": [],
      "source": [
        "embedding_dim = 16"
      ]
    },
    {
      "cell_type": "code",
      "execution_count": null,
      "metadata": {
        "execution": {
          "iopub.execute_input": "2023-09-28T07:21:58.759090Z",
          "iopub.status.busy": "2023-09-28T07:21:58.758538Z",
          "iopub.status.idle": "2023-09-28T07:21:58.812505Z",
          "shell.execute_reply": "2023-09-28T07:21:58.811813Z"
        },
        "id": "xpKOoWgu-llD",
        "outputId": "52fcaadb-7d10-4fad-9a43-43b709aca9f3",
        "colab": {
          "base_uri": "https://localhost:8080/"
        }
      },
      "outputs": [
        {
          "output_type": "stream",
          "name": "stdout",
          "text": [
            "Model: \"sequential\"\n",
            "_________________________________________________________________\n",
            " Layer (type)                Output Shape              Param #   \n",
            "=================================================================\n",
            " embedding (Embedding)       (None, None, 16)          160016    \n",
            "                                                                 \n",
            " dropout (Dropout)           (None, None, 16)          0         \n",
            "                                                                 \n",
            " global_average_pooling1d (  (None, 16)                0         \n",
            " GlobalAveragePooling1D)                                         \n",
            "                                                                 \n",
            " dropout_1 (Dropout)         (None, 16)                0         \n",
            "                                                                 \n",
            " dense (Dense)               (None, 1)                 17        \n",
            "                                                                 \n",
            "=================================================================\n",
            "Total params: 160033 (625.13 KB)\n",
            "Trainable params: 160033 (625.13 KB)\n",
            "Non-trainable params: 0 (0.00 Byte)\n",
            "_________________________________________________________________\n"
          ]
        }
      ],
      "source": [
        "model = tf.keras.Sequential([\n",
        "  layers.Embedding(max_features + 1, embedding_dim),\n",
        "  layers.Dropout(0.2),\n",
        "  layers.GlobalAveragePooling1D(),\n",
        "  layers.Dropout(0.2),\n",
        "  layers.Dense(1)])\n",
        "\n",
        "model.summary()"
      ]
    },
    {
      "cell_type": "markdown",
      "metadata": {
        "id": "6PbKQ6mucuKL"
      },
      "source": [
        "The layers are stacked sequentially to build the classifier:\n",
        "\n",
        "1. The first layer is an `Embedding` layer. This layer takes the integer-encoded reviews and looks up an embedding vector for each word-index. These vectors are learned as the model trains. The vectors add a dimension to the output array. The resulting dimensions are: `(batch, sequence, embedding)`.  To learn more about embeddings, check out the [Word embeddings](https://www.tensorflow.org/text/guide/word_embeddings) tutorial.\n",
        "2. Next, a `GlobalAveragePooling1D` layer returns a fixed-length output vector for each example by averaging over the sequence dimension. This allows the model to handle input of variable length, in the simplest way possible.\n",
        "3. The last layer is densely connected with a single output node."
      ]
    },
    {
      "cell_type": "markdown",
      "metadata": {
        "id": "L4EqVWg4-llM"
      },
      "source": [
        "### Loss function and optimizer\n",
        "\n",
        "A model needs a loss function and an optimizer for training. Since this is a binary classification problem and the model outputs a probability (a single-unit layer with a sigmoid activation), you'll use `losses.BinaryCrossentropy` loss function.\n",
        "\n",
        "Now, configure the model to use an optimizer and a loss function:"
      ]
    },
    {
      "cell_type": "code",
      "execution_count": null,
      "metadata": {
        "execution": {
          "iopub.execute_input": "2023-09-28T07:21:58.821577Z",
          "iopub.status.busy": "2023-09-28T07:21:58.820952Z",
          "iopub.status.idle": "2023-09-28T07:21:58.835319Z",
          "shell.execute_reply": "2023-09-28T07:21:58.834725Z"
        },
        "id": "Mr0GP-cQ-llN"
      },
      "outputs": [],
      "source": [
        "model.compile(loss=losses.BinaryCrossentropy(from_logits=True),\n",
        "              optimizer='adam',\n",
        "              metrics=tf.metrics.BinaryAccuracy(threshold=0.0))"
      ]
    },
    {
      "cell_type": "markdown",
      "metadata": {
        "id": "35jv_fzP-llU"
      },
      "source": [
        "### Train the model\n",
        "\n",
        "You will train the model by passing the `dataset` object to the fit method."
      ]
    },
    {
      "cell_type": "code",
      "execution_count": null,
      "metadata": {
        "execution": {
          "iopub.execute_input": "2023-09-28T07:21:58.838840Z",
          "iopub.status.busy": "2023-09-28T07:21:58.838259Z",
          "iopub.status.idle": "2023-09-28T07:22:22.602202Z",
          "shell.execute_reply": "2023-09-28T07:22:22.601474Z"
        },
        "id": "tXSGrjWZ-llW",
        "outputId": "0bc6fa40-26da-4c86-ed38-2014dcc0f1f1",
        "colab": {
          "base_uri": "https://localhost:8080/"
        }
      },
      "outputs": [
        {
          "output_type": "stream",
          "name": "stdout",
          "text": [
            "Epoch 1/10\n",
            "625/625 [==============================] - 56s 78ms/step - loss: 0.6631 - binary_accuracy: 0.6981 - val_loss: 0.6143 - val_binary_accuracy: 0.7710\n",
            "Epoch 2/10\n",
            "625/625 [==============================] - 3s 4ms/step - loss: 0.5480 - binary_accuracy: 0.8012 - val_loss: 0.4980 - val_binary_accuracy: 0.8222\n",
            "Epoch 3/10\n",
            "625/625 [==============================] - 3s 5ms/step - loss: 0.4441 - binary_accuracy: 0.8451 - val_loss: 0.4199 - val_binary_accuracy: 0.8484\n",
            "Epoch 4/10\n",
            "625/625 [==============================] - 3s 4ms/step - loss: 0.3785 - binary_accuracy: 0.8650 - val_loss: 0.3735 - val_binary_accuracy: 0.8608\n",
            "Epoch 5/10\n",
            "625/625 [==============================] - 3s 4ms/step - loss: 0.3350 - binary_accuracy: 0.8792 - val_loss: 0.3449 - val_binary_accuracy: 0.8670\n",
            "Epoch 6/10\n",
            "625/625 [==============================] - 3s 4ms/step - loss: 0.3036 - binary_accuracy: 0.8899 - val_loss: 0.3256 - val_binary_accuracy: 0.8716\n",
            "Epoch 7/10\n",
            "625/625 [==============================] - 3s 6ms/step - loss: 0.2808 - binary_accuracy: 0.8991 - val_loss: 0.3122 - val_binary_accuracy: 0.8742\n",
            "Epoch 8/10\n",
            "625/625 [==============================] - 3s 4ms/step - loss: 0.2618 - binary_accuracy: 0.9049 - val_loss: 0.3031 - val_binary_accuracy: 0.8770\n",
            "Epoch 9/10\n",
            "625/625 [==============================] - 3s 4ms/step - loss: 0.2458 - binary_accuracy: 0.9118 - val_loss: 0.2965 - val_binary_accuracy: 0.8782\n",
            "Epoch 10/10\n",
            "625/625 [==============================] - 3s 4ms/step - loss: 0.2305 - binary_accuracy: 0.9155 - val_loss: 0.2919 - val_binary_accuracy: 0.8796\n"
          ]
        }
      ],
      "source": [
        "epochs = 10\n",
        "history = model.fit(\n",
        "    train_ds,\n",
        "    validation_data=val_ds,\n",
        "    epochs=epochs)"
      ]
    },
    {
      "cell_type": "markdown",
      "metadata": {
        "id": "9EEGuDVuzb5r"
      },
      "source": [
        "### Evaluate the model\n",
        "\n",
        "Let's see how the model performs. Two values will be returned. Loss (a number which represents our error, lower values are better), and accuracy."
      ]
    },
    {
      "cell_type": "code",
      "execution_count": null,
      "metadata": {
        "execution": {
          "iopub.execute_input": "2023-09-28T07:22:22.606402Z",
          "iopub.status.busy": "2023-09-28T07:22:22.605768Z",
          "iopub.status.idle": "2023-09-28T07:22:23.952412Z",
          "shell.execute_reply": "2023-09-28T07:22:23.951613Z"
        },
        "id": "zOMKywn4zReN",
        "outputId": "1549d3ae-5daf-4b25-dd6d-eb88a4537a06",
        "colab": {
          "base_uri": "https://localhost:8080/"
        }
      },
      "outputs": [
        {
          "output_type": "stream",
          "name": "stdout",
          "text": [
            "782/782 [==============================] - 4s 5ms/step - loss: 0.3100 - binary_accuracy: 0.8742\n",
            "Loss:  0.30996352434158325\n",
            "Accuracy:  0.874239981174469\n"
          ]
        }
      ],
      "source": [
        "loss, accuracy = model.evaluate(test_ds)\n",
        "\n",
        "print(\"Loss: \", loss)\n",
        "print(\"Accuracy: \", accuracy)"
      ]
    },
    {
      "cell_type": "markdown",
      "metadata": {
        "id": "z1iEXVTR0Z2t"
      },
      "source": [
        "This fairly naive approach achieves an accuracy of about 86%."
      ]
    },
    {
      "cell_type": "markdown",
      "metadata": {
        "id": "ldbQqCw2Xc1W"
      },
      "source": [
        "### Create a plot of accuracy and loss over time\n",
        "\n",
        "`model.fit()` returns a `History` object that contains a dictionary with everything that happened during training:"
      ]
    },
    {
      "cell_type": "code",
      "execution_count": null,
      "metadata": {
        "execution": {
          "iopub.execute_input": "2023-09-28T07:22:23.956023Z",
          "iopub.status.busy": "2023-09-28T07:22:23.955388Z",
          "iopub.status.idle": "2023-09-28T07:22:23.960053Z",
          "shell.execute_reply": "2023-09-28T07:22:23.959372Z"
        },
        "id": "-YcvZsdvWfDf",
        "outputId": "5e765dc1-d910-4ee1-936a-2c3b07048292",
        "colab": {
          "base_uri": "https://localhost:8080/"
        }
      },
      "outputs": [
        {
          "output_type": "execute_result",
          "data": {
            "text/plain": [
              "dict_keys(['loss', 'binary_accuracy', 'val_loss', 'val_binary_accuracy'])"
            ]
          },
          "metadata": {},
          "execution_count": 26
        }
      ],
      "source": [
        "history_dict = history.history\n",
        "history_dict.keys()"
      ]
    },
    {
      "cell_type": "markdown",
      "metadata": {
        "id": "1_CH32qJXruI"
      },
      "source": [
        "There are four entries: one for each monitored metric during training and validation. You can use these to plot the training and validation loss for comparison, as well as the training and validation accuracy:"
      ]
    },
    {
      "cell_type": "code",
      "execution_count": null,
      "metadata": {
        "execution": {
          "iopub.execute_input": "2023-09-28T07:22:23.963239Z",
          "iopub.status.busy": "2023-09-28T07:22:23.962705Z",
          "iopub.status.idle": "2023-09-28T07:22:24.114433Z",
          "shell.execute_reply": "2023-09-28T07:22:24.113843Z"
        },
        "id": "2SEMeQ5YXs8z",
        "outputId": "13ee2da0-c56b-4ba9-e309-cfc7cb52aaf8",
        "colab": {
          "base_uri": "https://localhost:8080/",
          "height": 472
        }
      },
      "outputs": [
        {
          "output_type": "display_data",
          "data": {
            "text/plain": [
              "<Figure size 640x480 with 1 Axes>"
            ],
            "image/png": "[encoded data removed]"
          },
          "metadata": {}
        }
      ],
      "source": [
        "acc = history_dict['binary_accuracy']\n",
        "val_acc = history_dict['val_binary_accuracy']\n",
        "loss = history_dict['loss']\n",
        "val_loss = history_dict['val_loss']\n",
        "\n",
        "epochs = range(1, len(acc) + 1)\n",
        "\n",
        "# \"bo\" is for \"blue dot\"\n",
        "plt.plot(epochs, loss, 'bo', label='Training loss')\n",
        "# b is for \"solid blue line\"\n",
        "plt.plot(epochs, val_loss, 'b', label='Validation loss')\n",
        "plt.title('Training and validation loss')\n",
        "plt.xlabel('Epochs')\n",
        "plt.ylabel('Loss')\n",
        "plt.legend()\n",
        "\n",
        "plt.show()"
      ]
    },
    {
      "cell_type": "code",
      "execution_count": null,
      "metadata": {
        "execution": {
          "iopub.execute_input": "2023-09-28T07:22:24.117290Z",
          "iopub.status.busy": "2023-09-28T07:22:24.116907Z",
          "iopub.status.idle": "2023-09-28T07:22:24.254035Z",
          "shell.execute_reply": "2023-09-28T07:22:24.253399Z"
        },
        "id": "Z3PJemLPXwz_",
        "outputId": "f522450e-fda8-4e4e-9d56-374217589290",
        "colab": {
          "base_uri": "https://localhost:8080/",
          "height": 472
        }
      },
      "outputs": [
        {
          "output_type": "display_data",
          "data": {
            "text/plain": [
              "<Figure size 640x480 with 1 Axes>"
            ],
            "image/png": "[encoded data removed]"
          },
          "metadata": {}
        }
      ],
      "source": [
        "plt.plot(epochs, acc, 'bo', label='Training acc')\n",
        "plt.plot(epochs, val_acc, 'b', label='Validation acc')\n",
        "plt.title('Training and validation accuracy')\n",
        "plt.xlabel('Epochs')\n",
        "plt.ylabel('Accuracy')\n",
        "plt.legend(loc='lower right')\n",
        "\n",
        "plt.show()"
      ]
    },
    {
      "cell_type": "markdown",
      "metadata": {
        "id": "hFFyCuJoXy7r"
      },
      "source": [
        "In this plot, the dots represent the training loss and accuracy, and the solid lines are the validation loss and accuracy.\n",
        "\n",
        "Notice the training loss *decreases* with each epoch and the training accuracy *increases* with each epoch. This is expected when using a gradient descent optimization—it should minimize the desired quantity on every iteration.\n",
        "\n",
        "This isn't the case for the validation loss and accuracy—they seem to peak before the training accuracy. This is an example of overfitting: the model performs better on the training data than it does on data it has never seen before. After this point, the model over-optimizes and learns representations *specific* to the training data that do not *generalize* to test data.\n",
        "\n",
        "For this particular case, you could prevent overfitting by simply stopping the training when the validation accuracy is no longer increasing. One way to do so is to use the `tf.keras.callbacks.EarlyStopping` callback."
      ]
    },
    {
      "cell_type": "markdown",
      "metadata": {
        "id": "-to23J3Vy5d3"
      },
      "source": [
        "## Export the model\n",
        "\n",
        "In the code above, you applied the `TextVectorization` layer to the dataset before feeding text to the model. If you want to make your model capable of processing raw strings (for example, to simplify deploying it), you can include the `TextVectorization` layer inside your model. To do so, you can create a new model using the weights you just trained."
      ]
    },
    {
      "cell_type": "code",
      "execution_count": null,
      "metadata": {
        "execution": {
          "iopub.execute_input": "2023-09-28T07:22:24.257250Z",
          "iopub.status.busy": "2023-09-28T07:22:24.256709Z",
          "iopub.status.idle": "2023-09-28T07:22:26.699348Z",
          "shell.execute_reply": "2023-09-28T07:22:26.698654Z"
        },
        "id": "FWXsMvryuZuq",
        "outputId": "952b71a0-7be6-406e-c24c-9c33419fb86d",
        "colab": {
          "base_uri": "https://localhost:8080/"
        }
      },
      "outputs": [
        {
          "output_type": "stream",
          "name": "stdout",
          "text": [
            "782/782 [==============================] - 5s 6ms/step - loss: 0.3100 - accuracy: 0.8742\n",
            "0.874239981174469\n"
          ]
        }
      ],
      "source": [
        "export_model = tf.keras.Sequential([\n",
        "  vectorize_layer,\n",
        "  model,\n",
        "  layers.Activation('sigmoid')\n",
        "])\n",
        "\n",
        "export_model.compile(\n",
        "    loss=losses.BinaryCrossentropy(from_logits=False), optimizer=\"adam\", metrics=['accuracy']\n",
        ")\n",
        "\n",
        "# Test it with `raw_test_ds`, which yields raw strings\n",
        "loss, accuracy = export_model.evaluate(raw_test_ds)\n",
        "print(accuracy)"
      ]
    },
    {
      "cell_type": "markdown",
      "metadata": {
        "id": "TwQgoN88LoEF"
      },
      "source": [
        "### Inference on new data\n",
        "\n",
        "To get predictions for new examples, you can simply call `model.predict()`."
      ]
    },
    {
      "cell_type": "code",
      "execution_count": null,
      "metadata": {
        "execution": {
          "iopub.execute_input": "2023-09-28T07:22:26.702846Z",
          "iopub.status.busy": "2023-09-28T07:22:26.702330Z",
          "iopub.status.idle": "2023-09-28T07:22:26.864824Z",
          "shell.execute_reply": "2023-09-28T07:22:26.864100Z"
        },
        "id": "QW355HH5L49K",
        "outputId": "69ac010c-5f9b-49e9-eeee-1124810fbd96",
        "colab": {
          "base_uri": "https://localhost:8080/"
        }
      },
      "outputs": [
        {
          "output_type": "stream",
          "name": "stdout",
          "text": [
            "1/1 [==============================] - 0s 117ms/step\n"
          ]
        },
        {
          "output_type": "execute_result",
          "data": {
            "text/plain": [
              "array([[0.61530936],\n",
              "       [0.43940008],\n",
              "       [0.355761  ]], dtype=float32)"
            ]
          },
          "metadata": {},
          "execution_count": 30
        }
      ],
      "source": [
        "examples = [\n",
        "  \"The movie was great!\",\n",
        "  \"The movie was okay.\",\n",
        "  \"The movie was terrible...\"\n",
        "]\n",
        "\n",
        "export_model.predict(examples)"
      ]
    },
    {
      "cell_type": "markdown",
      "metadata": {
        "id": "MaxlpFWpzR6c"
      },
      "source": [
        "Including the text preprocessing logic inside your model enables you to export a model for production that simplifies deployment, and reduces the potential for [train/test skew](https://developers.google.com/machine-learning/guides/rules-of-ml#training-serving_skew).\n",
        "\n",
        "There is a performance difference to keep in mind when choosing where to apply your TextVectorization layer. Using it outside of your model enables you to do asynchronous CPU processing and buffering of your data when training on GPU. So, if you're training your model on the GPU, you probably want to go with this option to get the best performance while developing your model, then switch to including the TextVectorization layer inside your model when you're ready to prepare for deployment.\n",
        "\n",
        "Visit this [tutorial](https://www.tensorflow.org/tutorials/keras/save_and_load) to learn more about saving models."
      ]
    },
    {
      "cell_type": "markdown",
      "metadata": {
        "id": "eSSuci_6nCEG"
      },
      "source": [
        "## Exercise: multi-class classification on Stack Overflow questions\n",
        "\n",
        "This tutorial showed how to train a binary classifier from scratch on the IMDB dataset. As an exercise, you can modify this notebook to train a multi-class classifier to predict the tag of a programming question on [Stack Overflow](http://stackoverflow.com/).\n",
        "\n",
        "A [dataset](https://storage.googleapis.com/download.tensorflow.org/data/stack_overflow_16k.tar.gz) has been prepared for you to use containing the body of several thousand programming questions (for example, \"How can I sort a dictionary by value in Python?\") posted to Stack Overflow. Each of these is labeled with exactly one tag (either Python, CSharp, JavaScript, or Java). Your task is to take a question as input, and predict the appropriate tag, in this case, Python.\n",
        "\n",
        "The dataset you will work with contains several thousand questions extracted from the much larger public Stack Overflow dataset on [BigQuery](https://console.cloud.google.com/marketplace/details/stack-exchange/stack-overflow), which contains more than 17 million posts.\n",
        "\n",
        "After downloading the dataset, you will find it has a similar directory structure to the IMDB dataset you worked with previously:\n",
        "\n",
        "```\n",
        "train/\n",
        "...python/\n",
        "......0.txt\n",
        "......1.txt\n",
        "...javascript/\n",
        "......0.txt\n",
        "......1.txt\n",
        "...csharp/\n",
        "......0.txt\n",
        "......1.txt\n",
        "...java/\n",
        "......0.txt\n",
        "......1.txt\n",
        "```\n",
        "\n",
        "Note: To increase the difficulty of the classification problem, occurrences of the words Python, CSharp, JavaScript, or Java in the programming questions have been replaced with the word *blank* (as many questions contain the language they're about).\n",
        "\n",
        "To complete this exercise, you should modify this notebook to work with the Stack Overflow dataset by making the following modifications:\n",
        "\n",
        "1. At the top of your notebook, update the code that downloads the IMDB dataset with code to download the [Stack Overflow dataset](https://storage.googleapis.com/download.tensorflow.org/data/stack_overflow_16k.tar.gz) that has already been prepared. As the Stack Overflow dataset has a similar directory structure, you will not need to make many modifications.\n",
        "\n",
        "1. Modify the last layer of your model to `Dense(4)`, as there are now four output classes.\n",
        "\n",
        "1. When compiling the model, change the loss to `tf.keras.losses.SparseCategoricalCrossentropy(from_logits=True)`. This is the correct loss function to use for a multi-class classification problem, when the labels for each class are integers (in this case, they can be 0, *1*, *2*, or *3*). In addition, change the metrics to `metrics=['accuracy']`, since this is a multi-class classification problem (`tf.metrics.BinaryAccuracy` is only used for binary classifiers).\n",
        "\n",
        "1. When plotting accuracy over time, change `binary_accuracy` and `val_binary_accuracy` to `accuracy` and `val_accuracy`, respectively.\n",
        "\n",
        "1. Once these changes are complete, you will be able to train a multi-class classifier."
      ]
    },
    {
      "cell_type": "markdown",
      "metadata": {
        "id": "F0T5SIwSm7uc"
      },
      "source": [
        "## Learning more\n",
        "\n",
        "This tutorial introduced text classification from scratch. To learn more about the text classification workflow in general, check out the [Text classification guide](https://developers.google.com/machine-learning/guides/text-classification/) from Google Developers.\n"
      ]
    },
    {
      "cell_type": "markdown",
      "source": [
        "**Step 1) At the top of your notebook, update the code that downloads the IMDB dataset with code to download the Stack Overflow dataset that has already been prepared. As the Stack Overflow dataset has a similar directory structure, you will not need to make many modifications.**"
      ],
      "metadata": {
        "id": "q0bQxyCpNhBU"
      }
    },
    {
      "cell_type": "code",
      "source": [
        "url = \"https://storage.googleapis.com/download.tensorflow.org/data/stack_overflow_16k.tar.gz\"\n",
        "\n",
        "dir_name = \"stack_overflow_16k\"\n",
        "dataset = tf.keras.utils.get_file(dir_name, url,\n",
        "                                  untar=True, cache_dir='.',\n",
        "                                  cache_subdir=dir_name,\n",
        "                                  extract=True)\n",
        "\n",
        "dataset_dir = os.path.join(os.path.dirname(dataset))"
      ],
      "metadata": {
        "id": "sb6aL9B6NgnL",
        "outputId": "32d0efbb-0ae1-4c5e-cad0-e8561cb4cc5b",
        "colab": {
          "base_uri": "https://localhost:8080/"
        }
      },
      "execution_count": 9,
      "outputs": [
        {
          "output_type": "stream",
          "name": "stdout",
          "text": [
            "Downloading data from https://storage.googleapis.com/download.tensorflow.org/data/stack_overflow_16k.tar.gz\n",
            "6053168/6053168 [==============================] - 0s 0us/step\n"
          ]
        }
      ]
    },
    {
      "cell_type": "code",
      "source": [
        "os.listdir(dataset_dir)"
      ],
      "metadata": {
        "colab": {
          "base_uri": "https://localhost:8080/"
        },
        "id": "IH_AEXKYF853",
        "outputId": "6bd03978-2416-4246-af19-9e3b36a4a859"
      },
      "execution_count": 10,
      "outputs": [
        {
          "output_type": "execute_result",
          "data": {
            "text/plain": [
              "['test', 'README.md', 'train', 'stack_overflow_16k.tar.gz']"
            ]
          },
          "metadata": {},
          "execution_count": 10
        }
      ]
    },
    {
      "cell_type": "code",
      "source": [
        "train_dir = os.path.join(dataset_dir, 'train')\n",
        "os.listdir(train_dir)"
      ],
      "metadata": {
        "colab": {
          "base_uri": "https://localhost:8080/"
        },
        "id": "HhWBrsYlFvty",
        "outputId": "37c45677-80c4-4906-cd7d-873355896c18"
      },
      "execution_count": 11,
      "outputs": [
        {
          "output_type": "execute_result",
          "data": {
            "text/plain": [
              "['java', 'csharp', 'javascript', 'python']"
            ]
          },
          "metadata": {},
          "execution_count": 11
        }
      ]
    },
    {
      "cell_type": "code",
      "source": [
        "sample_file = os.path.join(train_dir, 'python/0.txt')\n",
        "with open(sample_file) as f:\n",
        "  print(f.read())"
      ],
      "metadata": {
        "colab": {
          "base_uri": "https://localhost:8080/"
        },
        "id": "8-CDXrSZF2Dj",
        "outputId": "81faffb3-4169-46d3-c310-e0c0291d7c24"
      },
      "execution_count": 12,
      "outputs": [
        {
          "output_type": "stream",
          "name": "stdout",
          "text": [
            "\"is it legal to define two methods with the same name but different returning types? i've written a piece of code to determine a typical palindrome string. i did this by the definition of a reverse() method returning a string. i also eager to have the same method, but in the void form, because of some future needs..as i add the latter to the code, the valid output will become invalid..so, the question is that is it legal to define two methods with the same name but different returning types?.if not, please let me know how to write this code with the void-type method...class detector(object):.    def __init__(self,string):.        self.string = string..    forbidden = (' ','!','?','.','-','_','&amp;','%',\"\"#\"\",\"\",\"\")..    def eliminator(self):.        for item in self.forbidden:.            if item in self.string:.                self.string = self.string.replace(item,\"\"\"\")..    def reverse(self):.        return self.string[::-1]            ..    #def reverse(self):.    #    self.string = self.string[::-1]    i am prone to add this method..    def check(self):.        reversed = self.reverse().        if self.string == reversed:.            print(\"\"yes\"\").        else:.            print(\"\"no\"\")..det = detector(\"\"rise to vote, sir!\"\").det.eliminator().det.check()...when i add the commented lines, the valid \"\"yes\"\" becomes \"\"no\"\"!\"\n",
            "\n"
          ]
        }
      ]
    },
    {
      "cell_type": "code",
      "source": [
        "remove_dir = os.path.join(dataset_dir, 'stack_overflow_16k.tar.gz')\n",
        "!rm -rf {remove_dir}"
      ],
      "metadata": {
        "id": "HVnjU_XeGa6Z"
      },
      "execution_count": 13,
      "outputs": []
    },
    {
      "cell_type": "code",
      "source": [
        "batch_size = 32\n",
        "seed = 42\n",
        "\n",
        "raw_train_ds = tf.keras.utils.text_dataset_from_directory(\n",
        "    'stack_overflow_16k/train',\n",
        "    batch_size=batch_size,\n",
        "    validation_split=0.2,\n",
        "    subset='training',\n",
        "    seed=seed)"
      ],
      "metadata": {
        "colab": {
          "base_uri": "https://localhost:8080/"
        },
        "id": "3DW7B4FYGUXa",
        "outputId": "bd023e7a-6779-4dee-d7d4-84616205d122"
      },
      "execution_count": 64,
      "outputs": [
        {
          "output_type": "stream",
          "name": "stdout",
          "text": [
            "Found 8000 files belonging to 4 classes.\n",
            "Using 6400 files for training.\n"
          ]
        }
      ]
    },
    {
      "cell_type": "code",
      "source": [
        "for text_batch, label_batch in raw_train_ds.take(1):\n",
        "  for i in range(5):\n",
        "    print(\"Review\", text_batch.numpy()[i])\n",
        "    print(\"Label\", label_batch.numpy()[i])"
      ],
      "metadata": {
        "colab": {
          "base_uri": "https://localhost:8080/"
        },
        "id": "xB9cO0AJG5fR",
        "outputId": "f6e1bcf6-969e-4038-fc0a-78d3c4a2b153"
      },
      "execution_count": 65,
      "outputs": [
        {
          "output_type": "stream",
          "name": "stdout",
          "text": [
            "Review b'\"my tester is going to the wrong constructor i am new to programming so if i ask a question that can be easily fixed, please forgive me. my program has a tester class with a main. when i send that to my regularpolygon class, it sends it to the wrong constructor. i have two constructors. 1 without perameters..public regularpolygon().    {.       mynumsides = 5;.       mysidelength = 30;.    }//end default constructor...and my second, with perameters. ..public regularpolygon(int numsides, double sidelength).    {.        mynumsides = numsides;.        mysidelength = sidelength;.    }// end constructor...in my tester class i have these two lines:..regularpolygon shape = new regularpolygon(numsides, sidelength);.        shape.menu();...numsides and sidelength were declared and initialized earlier in the testing class...so what i want to happen, is the tester class sends numsides and sidelength to the second constructor and use it in that class. but it only uses the default constructor, which therefor ruins the whole rest of the program. can somebody help me?..for those of you who want to see more of my code: here you go..public double vertexangle().    {.        system.out.println(\"\"the vertex angle method: \"\" + mynumsides);// prints out 5.        system.out.println(\"\"the vertex angle method: \"\" + mysidelength); // prints out 30..        double vertexangle;.        vertexangle = ((mynumsides - 2.0) / mynumsides) * 180.0;.        return vertexangle;.    }//end method vertexangle..public void menu().{.    system.out.println(mynumsides); // prints out what the user puts in.    system.out.println(mysidelength); // prints out what the user puts in.    gotographic();.    calcr(mynumsides, mysidelength);.    calcr(mynumsides, mysidelength);.    print(); .}// end menu...this is my entire tester class:..public static void main(string[] arg).{.    int numsides;.    double sidelength;.    scanner keyboard = new scanner(system.in);..    system.out.println(\"\"welcome to the regular polygon program!\"\");.    system.out.println();..    system.out.print(\"\"enter the number of sides of the polygon ==&gt; \"\");.    numsides = keyboard.nextint();.    system.out.println();..    system.out.print(\"\"enter the side length of each side ==&gt; \"\");.    sidelength = keyboard.nextdouble();.    system.out.println();..    regularpolygon shape = new regularpolygon(numsides, sidelength);.    shape.menu();.}//end main...for testing it i sent it numsides 4 and sidelength 100.\"\\n'\n",
            "Label 1\n",
            "Review b'\"blank code slow skin detection this code changes the color space to lab and using a threshold finds the skin area of an image. but it\\'s ridiculously slow. i don\\'t know how to make it faster ?    ..from colormath.color_objects import *..def skindetection(img, treshold=80, color=[255,20,147]):..    print img.shape.    res=img.copy().    for x in range(img.shape[0]):.        for y in range(img.shape[1]):.            rgbimg=rgbcolor(img[x,y,0],img[x,y,1],img[x,y,2]).            labimg=rgbimg.convert_to(\\'lab\\', debug=false).            if (labimg.lab_l &gt; treshold):.                res[x,y,:]=color.            else: .                res[x,y,:]=img[x,y,:]..    return res\"\\n'\n",
            "Label 3\n",
            "Review b'\"option and validation in blank i want to add a new option on my system where i want to add two text files, both rental.txt and customer.txt. inside each text are id numbers of the customer, the videotape they need and the price...i want to place it as an option on my code. right now i have:...add customer.rent return.view list.search.exit...i want to add this as my sixth option. say for example i ordered a video, it would display the price and would let me confirm the price and if i am going to buy it or not...here is my current code:..  import blank.io.*;.    import blank.util.arraylist;.    import static blank.lang.system.out;..    public class rentalsystem{.    static bufferedreader input = new bufferedreader(new inputstreamreader(system.in));.    static file file = new file(\"\"file.txt\"\");.    static arraylist&lt;string&gt; list = new arraylist&lt;string&gt;();.    static int rows;..    public static void main(string[] args) throws exception{.        introduction();.        system.out.print(\"\"nn\"\");.        login();.        system.out.print(\"\"nnnnnnnnnnnnnnnnnnnnnn\"\");.        introduction();.        string repeat;.        do{.            loadfile();.            system.out.print(\"\"nwhat do you want to do?nn\"\");.            system.out.print(\"\"n                    - - - - - - - - - - - - - - - - - - - - - - -\"\");.            system.out.print(\"\"nn                    |     1. add customer    |   2. rent return |n\"\");.            system.out.print(\"\"n                    - - - - - - - - - - - - - - - - - - - - - - -\"\");.            system.out.print(\"\"nn                    |     3. view list       |   4. search      |n\"\");.            system.out.print(\"\"n                    - - - - - - - - - - - - - - - - - - - - - - -\"\");.            system.out.print(\"\"nn                                             |   5. exit        |n\"\");.            system.out.print(\"\"n                                              - - - - - - - - - -\"\");.            system.out.print(\"\"nnchoice:\"\");.            int choice = integer.parseint(input.readline());.            switch(choice){.                case 1:.                    writedata();.                    break;.                case 2:.                    rentdata();.                    break;.                case 3:.                    viewlist();.                    break;.                case 4:.                    search();.                    break;.                case 5:.                    system.out.println(\"\"goodbye!\"\");.                    system.exit(0);.                default:.                    system.out.print(\"\"invalid choice: \"\");.                    break;.            }.            system.out.print(\"\"ndo another task? [y/n] \"\");.            repeat = input.readline();.        }while(repeat.equals(\"\"y\"\"));..        if(repeat!=\"\"y\"\") system.out.println(\"\"ngoodbye!\"\");..    }..    public static void writedata() throws exception{.        system.out.print(\"\"nname: \"\");.        string cname = input.readline();.        system.out.print(\"\"address: \"\");.        string add = input.readline();.        system.out.print(\"\"phone no.: \"\");.        string pno = input.readline();.        system.out.print(\"\"rental amount: \"\");.        string ramount = input.readline();.        system.out.print(\"\"tapenumber: \"\");.        string tno = input.readline();.        system.out.print(\"\"title: \"\");.        string title = input.readline();.        system.out.print(\"\"date borrowed: \"\");.        string dborrowed = input.readline();.        system.out.print(\"\"due date: \"\");.        string ddate = input.readline();.        createline(cname, add, pno, ramount,tno, title, dborrowed, ddate);.        rentdata();.    }..    public static void createline(string name, string address, string phone , string rental, string tapenumber, string title, string borrowed, string due) throws exception{.        filewriter fw = new filewriter(file, true);.        fw.write(\"\"nname: \"\"+name + \"\"naddress: \"\" + address +\"\"nphone no.: \"\"+ phone+\"\"nrentalamount: \"\"+rental+\"\"ntape no.: \"\"+ tapenumber+\"\"ntitle: \"\"+ title+\"\"ndate borrowed: \"\"+borrowed +\"\"ndue date: \"\"+ due+\"\":rn\"\");.        fw.close();.    }..    public static void loadfile() throws exception{.        try{.            list.clear();.            fileinputstream fstream = new fileinputstream(file);.            bufferedreader br = new bufferedreader(new inputstreamreader(fstream));.            rows = 0;.            while( br.ready()).            {.                list.add(br.readline());.                rows++;.            }.            br.close();.        } catch(exception e){.            system.out.println(\"\"list not yet loaded.\"\");.        }.    }..    public static void viewlist(){.        system.out.print(\"\"n~ ~ ~ ~ ~ ~ ~ ~ ~ ~ ~\"\");.        system.out.print(\"\" |list of all costumers|\"\");.        system.out.print(\"\"~ ~ ~ ~ ~ ~ ~ ~ ~ ~ ~\"\");.        for(int i = 0; i &lt;rows; i++){.            system.out.println(list.get(i));.        }.    }.        public static void rentdata()throws exception.    {   system.out.print(\"\"n~ ~ ~ ~ ~ ~ ~ ~ ~ ~ ~\"\");.        system.out.print(\"\" |rent data list|\"\");.        system.out.print(\"\"~ ~ ~ ~ ~ ~ ~ ~ ~ ~ ~\"\");.        system.out.print(\"\"nenter customer name: \"\");.        string cname = input.readline();.        system.out.print(\"\"date borrowed: \"\");.        string dborrowed = input.readline();.        system.out.print(\"\"due date: \"\");.        string ddate = input.readline();.        system.out.print(\"\"return date: \"\");.        string rdate = input.readline();.        system.out.print(\"\"rent amount: \"\");.        string ramount = input.readline();..        system.out.print(\"\"you pay:\"\"+ramount);...    }.    public static void search()throws exception.    {   system.out.print(\"\"n~ ~ ~ ~ ~ ~ ~ ~ ~ ~ ~\"\");.        system.out.print(\"\" |search costumers|\"\");.        system.out.print(\"\"~ ~ ~ ~ ~ ~ ~ ~ ~ ~ ~\"\");.        system.out.print(\"\"nenter costumer name: \"\");.        string cname = input.readline();.        boolean found = false;..        for(int i=0; i &lt; rows; i++){.            string temp[] = list.get(i).split(\"\",\"\");..            if(cname.equals(temp[0])){.            system.out.println(\"\"search result:nyou are \"\" + temp[0] + \"\" from \"\" + temp[1] + \"\".\"\"+ temp[2] + \"\".\"\"+ temp[3] + \"\".\"\"+ temp[4] + \"\".\"\"+ temp[5] + \"\" is \"\" + temp[6] + \"\".\"\"+ temp[7] + \"\" is \"\" + temp[8] + \"\".\"\");.                found = true;.            }.        }..        if(!found){.            system.out.print(\"\"no results.\"\");.        }..    }..        public static boolean evaluate(string uname, string pass){.        if (uname.equals(\"\"admin\"\")&amp;&amp;pass.equals(\"\"12345\"\")) return true;.        else return false;.    }..    public static string login()throws exception{.        bufferedreader input=new bufferedreader(new inputstreamreader(system.in));.        int counter=0;.        do{.            system.out.print(\"\"username:\"\");.            string uname =input.readline();.            system.out.print(\"\"password:\"\");.            string pass =input.readline();..            boolean accept= evaluate(uname,pass);..            if(accept){.                break;.                }else{.                    system.out.println(\"\"incorrect username or password!\"\");.                    counter ++;.                    }.        }while(counter&lt;3);..            if(counter !=3) return \"\"login successful\"\";.            else return \"\"login failed\"\";.            }.        public static void introduction() throws exception{..        system.out.println(\"\"                  - - - - - - - - - - - - - - - - - - - - - - - - -\"\");.        system.out.println(\"\"                  !                  r e n t a l                  !\"\");.        system.out.println(\"\"                   ! ~ ~ ~ ~ ~ !  =================  ! ~ ~ ~ ~ ~ !\"\");.        system.out.println(\"\"                  !                  s y s t e m                  !\"\");.        system.out.println(\"\"                  - - - - - - - - - - - - - - - - - - - - - - - - -\"\");.        }..}\"\\n'\n",
            "Label 1\n",
            "Review b'\"exception: dynamic sql generation for the updatecommand is not supported against a selectcommand that does not return any key i dont know what is the problem this my code : ..string nomtable;..datatable listeetablissementtable = new datatable();.datatable listeinteretstable = new datatable();.dataset ds = new dataset();.sqldataadapter da;.sqlcommandbuilder cmdb;..private void listeinterets_click(object sender, eventargs e).{.    nomtable = \"\"listeinteretstable\"\";.    d.cnx.open();.    da = new sqldataadapter(\"\"select nome from offices\"\", d.cnx);.    ds = new dataset();.    da.fill(ds, nomtable);.    datagridview1.datasource = ds.tables[nomtable];.}..private void sauvgarder_click(object sender, eventargs e).{.    d.cnx.open();.    cmdb = new sqlcommandbuilder(da);.    da.update(ds, nomtable);.    d.cnx.close();.}\"\\n'\n",
            "Label 0\n",
            "Review b'\"parameter with question mark and super in blank, i\\'ve come across a method that is formatted like this:..public final subscription subscribe(final action1&lt;? super t&gt; onnext, final action1&lt;throwable&gt; onerror) {.}...in the first parameter, what does the question mark and super mean?\"\\n'\n",
            "Label 1\n"
          ]
        }
      ]
    },
    {
      "cell_type": "code",
      "source": [
        "print(\"Label 0 corresponds to\", raw_train_ds.class_names[0])\n",
        "print(\"Label 1 corresponds to\", raw_train_ds.class_names[1])\n",
        "print(\"Label 2 corresponds to\", raw_train_ds.class_names[2])\n",
        "print(\"Label 3 corresponds to\", raw_train_ds.class_names[3])"
      ],
      "metadata": {
        "colab": {
          "base_uri": "https://localhost:8080/"
        },
        "id": "CsFZMRlDHO3U",
        "outputId": "38d5c884-e694-4b15-9418-fecee141fb33"
      },
      "execution_count": 66,
      "outputs": [
        {
          "output_type": "stream",
          "name": "stdout",
          "text": [
            "Label 0 corresponds to csharp\n",
            "Label 1 corresponds to java\n",
            "Label 2 corresponds to javascript\n",
            "Label 3 corresponds to python\n"
          ]
        }
      ]
    },
    {
      "cell_type": "code",
      "source": [
        "raw_val_ds = tf.keras.utils.text_dataset_from_directory(\n",
        "    'stack_overflow_16k/train',\n",
        "    batch_size=batch_size,\n",
        "    validation_split=0.2,\n",
        "    subset='validation',\n",
        "    seed=seed)"
      ],
      "metadata": {
        "colab": {
          "base_uri": "https://localhost:8080/"
        },
        "id": "1GNU3FY0HVn-",
        "outputId": "19d6953f-73cc-490d-bc0a-4cec453e4c77"
      },
      "execution_count": 67,
      "outputs": [
        {
          "output_type": "stream",
          "name": "stdout",
          "text": [
            "Found 8000 files belonging to 4 classes.\n",
            "Using 1600 files for validation.\n"
          ]
        }
      ]
    },
    {
      "cell_type": "code",
      "source": [
        "raw_test_ds = tf.keras.utils.text_dataset_from_directory(\n",
        "    'stack_overflow_16k/test',\n",
        "    batch_size=batch_size)"
      ],
      "metadata": {
        "colab": {
          "base_uri": "https://localhost:8080/"
        },
        "id": "HchWqPtZHiZH",
        "outputId": "4ed6afa1-7bb4-4707-a2d3-be9b755abae0"
      },
      "execution_count": 68,
      "outputs": [
        {
          "output_type": "stream",
          "name": "stdout",
          "text": [
            "Found 8000 files belonging to 4 classes.\n"
          ]
        }
      ]
    },
    {
      "cell_type": "code",
      "source": [
        "def custom_standardization(input_data):\n",
        "  lowercase = tf.strings.lower(input_data)\n",
        "  stripped_html = tf.strings.regex_replace(lowercase, '<br />', ' ')\n",
        "  return tf.strings.regex_replace(stripped_html,\n",
        "                                  '[%s]' % re.escape(string.punctuation),\n",
        "                                  '')"
      ],
      "metadata": {
        "id": "qgsHfEsQMSiw"
      },
      "execution_count": 69,
      "outputs": []
    },
    {
      "cell_type": "code",
      "source": [
        "max_features = 10000\n",
        "sequence_length = 250\n",
        "\n",
        "vectorize_layer = layers.TextVectorization(\n",
        "    standardize=custom_standardization,\n",
        "    max_tokens=max_features,\n",
        "    output_mode='int',\n",
        "    output_sequence_length=sequence_length)"
      ],
      "metadata": {
        "id": "B20xha2HHn_H"
      },
      "execution_count": 49,
      "outputs": []
    },
    {
      "cell_type": "code",
      "source": [
        "# Make a text-only dataset (without labels), then call adapt\n",
        "train_text = raw_train_ds.map(lambda x, y: x)\n",
        "vectorize_layer.adapt(train_text)"
      ],
      "metadata": {
        "id": "tM4SDt4DMNcQ"
      },
      "execution_count": 50,
      "outputs": []
    },
    {
      "cell_type": "code",
      "source": [
        "def vectorize_text(text, label):\n",
        "  text = tf.expand_dims(text, -1)\n",
        "  return vectorize_layer(text), label"
      ],
      "metadata": {
        "id": "9ncbhHjrMXM3"
      },
      "execution_count": 51,
      "outputs": []
    },
    {
      "cell_type": "code",
      "source": [
        "# retrieve a batch (of 32 reviews and labels) from the dataset\n",
        "text_batch, label_batch = next(iter(raw_train_ds))\n",
        "first_review, first_label = text_batch[0], label_batch[0]\n",
        "print(\"Question\", first_review)\n",
        "print(\"Label\", raw_train_ds.class_names[first_label])\n",
        "print(\"Vectorized question\", vectorize_text(first_review, first_label))"
      ],
      "metadata": {
        "colab": {
          "base_uri": "https://localhost:8080/"
        },
        "id": "5p9cT0o6Mb1X",
        "outputId": "ab58eef3-9baa-4ba6-f71f-018635cb4632"
      },
      "execution_count": 52,
      "outputs": [
        {
          "output_type": "stream",
          "name": "stdout",
          "text": [
            "Question tf.Tensor(b'\"set blank to quit on exception? i\\'m using blank 3..i\\'ve been looking around for an answer to this, but i haven\\'t found it yet. basically, i\\'m running several blank scripts into a game engine, and each script has its own entry point...i\\'d rather not add try: except blocks through all of my code, so i was wondering if it\\'s at all possible to tell blank to quit (or perhaps assign a custom function to that \"\"callback\"\") on finding its first error, regardless of where or what it found? ..currently, the game engine will continue after finding and hitting an error, making it more difficult than necessary to diagnose issues since running into one error may make a subsequent script not work (as it relies on variables that the error-ing script set, for example). any ideas? ..i know that i could redirect the console to a file to allow for easier scrolling, but just capturing the first error and stopping the game prematurely would be really useful...okay, a couple of extra bits of info - sorry for neglecting to say this. the engine i\\'m using (the blender game engine) is coded in c, so changing the source is more than i\\'d like to do.....after googling, it would appear that a similar question with a solid answer has been asked here, which is how to get the last raised exception. if i check the sys module for the presence of the last_value variable and it exists, then i can quit prematurely, as the console would have already printed out the error...thanks for the help.\"\\n', shape=(), dtype=string)\n",
            "Label python\n",
            "Vectorized question (<tf.Tensor: shape=(1, 250), dtype=int64, numpy=\n",
            "array([[ 107,   16,    4, 1139,   37,  184,   52,   47,   16,    1,  215,\n",
            "         417,  518,   12,   32,  182,    4,   13,   26,    3, 1416,  227,\n",
            "          11,  894,  627,   52,  309,  718,   16, 1274,  100,    5,  244,\n",
            "        1826,    8,  119,  224,   95,   97,  657,  858,    1,  797,   20,\n",
            "         125,  117,  559, 2282,  194,   73,    9,   23,   30,   50,    3,\n",
            "         115,  566,   10,   97,   59,   73,  204,    4,  412,   16,    4,\n",
            "        1139,   45, 1670,  601,    5,  694,   38,    4,   14,  851,   37,\n",
            "         967,   97,   98,   65, 2374,    9,  132,   45,   55,   11,  227,\n",
            "         401,    2,  244, 1826,   72,  534,  156,  967,    8, 7808,   32,\n",
            "          65,  468,   11,  181, 2332,  198, 1461,    4,    1, 1093,  447,\n",
            "         309,  100,   71,   65,  454,  109,    5, 3560,  224,   20,  139,\n",
            "          36,   11, 9052,   37,  233,   14,    2,    1,  224,  107,   12,\n",
            "         137,   76,  779,    3,  102,   14,    3,  176, 1853,    2,  332,\n",
            "           4,    5,   39,    4,  787,   12, 1320, 3579,   26,  106,    1,\n",
            "           2,   98,   65,    8, 2902,    2,  244,    1,   69,   33,  336,\n",
            "           1,    5, 1759,    9, 1157, 2531,    9,  568,  729,   12,    1,\n",
            "           4,  321,   13,    2, 1826,   52,   47,    2,    1,  244, 1826,\n",
            "           6, 2619,    7,  131,   50,  801,    2,  313,    6,  181,  198,\n",
            "         142,   48,    4,    1, 3965,   11,   69,  882,   14,    5,  520,\n",
            "         159,   21,    5, 1706,  182,   95,  215,  912,  101,   66,    6,\n",
            "          24,    4,   41,    2,  218, 2918,  184,   10,    3,  186,    2,\n",
            "        1358,  380,   12,    2, 9151,    9,    2,    1,  116,    8,   11,\n",
            "         758,   87,    3,   35, 1139,    1,   36,    2]])>, <tf.Tensor: shape=(), dtype=int32, numpy=3>)\n"
          ]
        }
      ]
    },
    {
      "cell_type": "code",
      "source": [
        "print(\"1287 ---> \",vectorize_layer.get_vocabulary()[1287])\n",
        "print(\" 313 ---> \",vectorize_layer.get_vocabulary()[313])\n",
        "print('Vocabulary size: {}'.format(len(vectorize_layer.get_vocabulary())))"
      ],
      "metadata": {
        "colab": {
          "base_uri": "https://localhost:8080/"
        },
        "id": "MyCI4cN6Mxhj",
        "outputId": "a41180fc-a19d-49bc-f760-55a53ea1632f"
      },
      "execution_count": 53,
      "outputs": [
        {
          "output_type": "stream",
          "name": "stdout",
          "text": [
            "1287 --->  scissors\n",
            " 313 --->  source\n",
            "Vocabulary size: 10000\n"
          ]
        }
      ]
    },
    {
      "cell_type": "code",
      "source": [
        "train_ds = raw_train_ds.map(vectorize_text)\n",
        "val_ds = raw_val_ds.map(vectorize_text)\n",
        "test_ds = raw_test_ds.map(vectorize_text)"
      ],
      "metadata": {
        "id": "Jmv2MAtnM1QU"
      },
      "execution_count": 54,
      "outputs": []
    },
    {
      "cell_type": "code",
      "source": [
        "AUTOTUNE = tf.data.AUTOTUNE\n",
        "\n",
        "train_ds = train_ds.cache().prefetch(buffer_size=AUTOTUNE)\n",
        "val_ds = val_ds.cache().prefetch(buffer_size=AUTOTUNE)\n",
        "test_ds = test_ds.cache().prefetch(buffer_size=AUTOTUNE)"
      ],
      "metadata": {
        "id": "0AAra6qWM3WF"
      },
      "execution_count": 55,
      "outputs": []
    },
    {
      "cell_type": "markdown",
      "source": [
        "**Step 2) Modify the last layer of your model to Dense(4), as there are now four output classes.**"
      ],
      "metadata": {
        "id": "3ejEU3NDNkcD"
      }
    },
    {
      "cell_type": "code",
      "source": [
        "embedding_dim = 16"
      ],
      "metadata": {
        "id": "dC5PlB8mNleW"
      },
      "execution_count": null,
      "outputs": []
    },
    {
      "cell_type": "code",
      "source": [
        "model = tf.keras.Sequential([\n",
        "  layers.Embedding(max_features + 1, embedding_dim),\n",
        "  layers.Dropout(0.2),\n",
        "  layers.GlobalAveragePooling1D(),\n",
        "  layers.Dropout(0.2),\n",
        "  layers.Dense(4)])\n",
        "\n",
        "model.summary()"
      ],
      "metadata": {
        "colab": {
          "base_uri": "https://localhost:8080/"
        },
        "id": "MCcX9pgONOyt",
        "outputId": "70125ecf-0257-491c-a402-8d171e77c527"
      },
      "execution_count": null,
      "outputs": [
        {
          "output_type": "stream",
          "name": "stdout",
          "text": [
            "Model: \"sequential_4\"\n",
            "_________________________________________________________________\n",
            " Layer (type)                Output Shape              Param #   \n",
            "=================================================================\n",
            " embedding_4 (Embedding)     (None, None, 16)          160016    \n",
            "                                                                 \n",
            " dropout_8 (Dropout)         (None, None, 16)          0         \n",
            "                                                                 \n",
            " global_average_pooling1d_4  (None, 16)                0         \n",
            "  (GlobalAveragePooling1D)                                       \n",
            "                                                                 \n",
            " dropout_9 (Dropout)         (None, 16)                0         \n",
            "                                                                 \n",
            " dense_4 (Dense)             (None, 4)                 68        \n",
            "                                                                 \n",
            "=================================================================\n",
            "Total params: 160084 (625.33 KB)\n",
            "Trainable params: 160084 (625.33 KB)\n",
            "Non-trainable params: 0 (0.00 Byte)\n",
            "_________________________________________________________________\n"
          ]
        }
      ]
    },
    {
      "cell_type": "markdown",
      "source": [
        "**Step 3) When compiling the model, change the loss to tf.keras.losses.SparseCategoricalCrossentropy(from_logits=True). This is the correct loss function to use for a multi-class classification problem, when the labels for each class are integers (in this case, they can be 0, 1, 2, or 3). In addition, change the metrics to metrics=['accuracy'], since this is a multi-class classification problem (tf.metrics.BinaryAccuracy is only used for binary classifiers).**"
      ],
      "metadata": {
        "id": "B1iM37RVNl4P"
      }
    },
    {
      "cell_type": "code",
      "source": [
        "model.compile(loss=losses.SparseCategoricalCrossentropy(from_logits=True),\n",
        "              optimizer='adam',\n",
        "              metrics=['accuracy'])"
      ],
      "metadata": {
        "id": "DkVLZgPCNT05"
      },
      "execution_count": null,
      "outputs": []
    },
    {
      "cell_type": "code",
      "source": [
        "epochs = 15\n",
        "history = model.fit(\n",
        "    train_ds,\n",
        "    validation_data=val_ds,\n",
        "    epochs=epochs)"
      ],
      "metadata": {
        "colab": {
          "base_uri": "https://localhost:8080/"
        },
        "id": "KfY2dfEMNWbO",
        "outputId": "f7686131-394d-43b8-809c-4b2a7a6e517d"
      },
      "execution_count": null,
      "outputs": [
        {
          "output_type": "stream",
          "name": "stdout",
          "text": [
            "Epoch 1/15\n",
            "200/200 [==============================] - 16s 76ms/step - loss: 1.3790 - accuracy: 0.3414 - val_loss: 1.3688 - val_accuracy: 0.4762\n",
            "Epoch 2/15\n",
            "200/200 [==============================] - 1s 5ms/step - loss: 1.3532 - accuracy: 0.4511 - val_loss: 1.3331 - val_accuracy: 0.5056\n",
            "Epoch 3/15\n",
            "200/200 [==============================] - 1s 5ms/step - loss: 1.3057 - accuracy: 0.5203 - val_loss: 1.2754 - val_accuracy: 0.5500\n",
            "Epoch 4/15\n",
            "200/200 [==============================] - 1s 7ms/step - loss: 1.2383 - accuracy: 0.5811 - val_loss: 1.2033 - val_accuracy: 0.6225\n",
            "Epoch 5/15\n",
            "200/200 [==============================] - 1s 7ms/step - loss: 1.1599 - accuracy: 0.6361 - val_loss: 1.1271 - val_accuracy: 0.6619\n",
            "Epoch 6/15\n",
            "200/200 [==============================] - 1s 4ms/step - loss: 1.0843 - accuracy: 0.6767 - val_loss: 1.0548 - val_accuracy: 0.7069\n",
            "Epoch 7/15\n",
            "200/200 [==============================] - 1s 4ms/step - loss: 1.0101 - accuracy: 0.7092 - val_loss: 0.9889 - val_accuracy: 0.7181\n",
            "Epoch 8/15\n",
            "200/200 [==============================] - 1s 4ms/step - loss: 0.9457 - accuracy: 0.7384 - val_loss: 0.9310 - val_accuracy: 0.7356\n",
            "Epoch 9/15\n",
            "200/200 [==============================] - 1s 5ms/step - loss: 0.8862 - accuracy: 0.7500 - val_loss: 0.8804 - val_accuracy: 0.7419\n",
            "Epoch 10/15\n",
            "200/200 [==============================] - 1s 4ms/step - loss: 0.8352 - accuracy: 0.7652 - val_loss: 0.8367 - val_accuracy: 0.7513\n",
            "Epoch 11/15\n",
            "200/200 [==============================] - 1s 4ms/step - loss: 0.7898 - accuracy: 0.7783 - val_loss: 0.7985 - val_accuracy: 0.7669\n",
            "Epoch 12/15\n",
            "200/200 [==============================] - 1s 4ms/step - loss: 0.7488 - accuracy: 0.7891 - val_loss: 0.7651 - val_accuracy: 0.7738\n",
            "Epoch 13/15\n",
            "200/200 [==============================] - 1s 5ms/step - loss: 0.7117 - accuracy: 0.8053 - val_loss: 0.7354 - val_accuracy: 0.7800\n",
            "Epoch 14/15\n",
            "200/200 [==============================] - 1s 4ms/step - loss: 0.6780 - accuracy: 0.8131 - val_loss: 0.7095 - val_accuracy: 0.7856\n",
            "Epoch 15/15\n",
            "200/200 [==============================] - 1s 5ms/step - loss: 0.6482 - accuracy: 0.8208 - val_loss: 0.6861 - val_accuracy: 0.7894\n"
          ]
        }
      ]
    },
    {
      "cell_type": "code",
      "source": [
        "loss, accuracy = model.evaluate(test_ds)\n",
        "\n",
        "print(\"Loss: \", loss)\n",
        "print(\"Accuracy: \", accuracy)"
      ],
      "metadata": {
        "colab": {
          "base_uri": "https://localhost:8080/"
        },
        "id": "gMccFPd8N-LT",
        "outputId": "356bff93-7a08-410f-b504-ff37c2d5a520"
      },
      "execution_count": null,
      "outputs": [
        {
          "output_type": "stream",
          "name": "stdout",
          "text": [
            "250/250 [==============================] - 1s 3ms/step - loss: 0.7247 - accuracy: 0.7584\n",
            "Loss:  0.724702000617981\n",
            "Accuracy:  0.7583749890327454\n"
          ]
        }
      ]
    },
    {
      "cell_type": "markdown",
      "source": [
        "**Step 4) When plotting accuracy over time, change binary_accuracy and val_binary_accuracy to accuracy and val_accuracy, respectively.**"
      ],
      "metadata": {
        "id": "xOZpy9FyNnLo"
      }
    },
    {
      "cell_type": "code",
      "source": [
        "history_dict = history.history\n",
        "history_dict.keys()"
      ],
      "metadata": {
        "id": "JmiCKH_qNoaG",
        "colab": {
          "base_uri": "https://localhost:8080/"
        },
        "outputId": "3690f547-9d7e-4eda-c960-ed57c3d9c134"
      },
      "execution_count": null,
      "outputs": [
        {
          "output_type": "execute_result",
          "data": {
            "text/plain": [
              "dict_keys(['loss', 'accuracy', 'val_loss', 'val_accuracy'])"
            ]
          },
          "metadata": {},
          "execution_count": 64
        }
      ]
    },
    {
      "cell_type": "code",
      "source": [
        "acc = history_dict['accuracy']\n",
        "val_acc = history_dict['val_accuracy']\n",
        "loss = history_dict['loss']\n",
        "val_loss = history_dict['val_loss']\n",
        "\n",
        "epochs = range(1, len(acc) + 1)\n",
        "\n",
        "# \"bo\" is for \"blue dot\"\n",
        "plt.plot(epochs, loss, 'bo', label='Training loss')\n",
        "# b is for \"solid blue line\"\n",
        "plt.plot(epochs, val_loss, 'b', label='Validation loss')\n",
        "plt.title('Training and validation loss')\n",
        "plt.xlabel('Epochs')\n",
        "plt.ylabel('Loss')\n",
        "plt.legend()\n",
        "\n",
        "plt.show()"
      ],
      "metadata": {
        "colab": {
          "base_uri": "https://localhost:8080/",
          "height": 472
        },
        "id": "6mg9MLGLOCA3",
        "outputId": "2ca0424c-b142-43d6-c9e5-d7e33448d154"
      },
      "execution_count": null,
      "outputs": [
        {
          "output_type": "display_data",
          "data": {
            "text/plain": [
              "<Figure size 640x480 with 1 Axes>"
            ],
            "image/png": "[encoded data removed]"
          },
          "metadata": {}
        }
      ]
    },
    {
      "cell_type": "code",
      "source": [
        "plt.plot(epochs, acc, 'bo', label='Training acc')\n",
        "plt.plot(epochs, val_acc, 'b', label='Validation acc')\n",
        "plt.title('Training and validation accuracy')\n",
        "plt.xlabel('Epochs')\n",
        "plt.ylabel('Accuracy')\n",
        "plt.legend(loc='lower right')\n",
        "\n",
        "plt.show()"
      ],
      "metadata": {
        "colab": {
          "base_uri": "https://localhost:8080/",
          "height": 472
        },
        "id": "ae-5ErzuOIf2",
        "outputId": "a075586d-dcf6-4e9f-b962-d1fc1254c3b6"
      },
      "execution_count": null,
      "outputs": [
        {
          "output_type": "display_data",
          "data": {
            "text/plain": [
              "<Figure size 640x480 with 1 Axes>"
            ],
            "image/png": "[encoded data removed]"
          },
          "metadata": {}
        }
      ]
    },
    {
      "cell_type": "markdown",
      "source": [
        "**Step 5) Once these changes are complete, you will be able to train a multi-class classifier.**"
      ],
      "metadata": {
        "id": "nmPT6mcMNpt9"
      }
    },
    {
      "cell_type": "markdown",
      "source": [
        "As we can see from the training job and charts above the task to train a multi-class classifier was successfully completed. One can see from the charts the model begins to overfit after 10 epochs."
      ],
      "metadata": {
        "id": "7NluOnTjPPe6"
      }
    },
    {
      "cell_type": "code",
      "source": [
        "export_model = tf.keras.Sequential([\n",
        "  vectorize_layer,\n",
        "  model,\n",
        "  layers.Activation('softmax')\n",
        "])\n",
        "\n",
        "export_model.compile(\n",
        "    loss=losses.SparseCategoricalCrossentropy(from_logits=False),\n",
        "    optimizer=\"adam\",\n",
        "    metrics=['accuracy']\n",
        ")\n",
        "\n",
        "# Test it with `raw_test_ds`, which yields raw strings\n",
        "loss, accuracy = export_model.evaluate(raw_test_ds)\n",
        "print(accuracy)"
      ],
      "metadata": {
        "id": "_bkoGWBPSBh9",
        "outputId": "d74f72f8-2969-4469-ea4f-31547734e8e3",
        "colab": {
          "base_uri": "https://localhost:8080/"
        }
      },
      "execution_count": null,
      "outputs": [
        {
          "output_type": "stream",
          "name": "stdout",
          "text": [
            "250/250 [==============================] - 2s 7ms/step - loss: 0.7247 - accuracy: 0.7584\n",
            "0.7583749890327454\n"
          ]
        }
      ]
    },
    {
      "cell_type": "code",
      "source": [
        "examples = [\n",
        "  # CSharp:\n",
        "  \"how to specify the connection string if the excel file name contains white space?using blank string connstring = \"\"provider=microsoft.ace.oledb.12.0;data source=d:\\data\\[proj_resource details 20110118.xlsx];extended properties=excel 12.0\"\";...i mentioned [ ] still it is throwing exception.how can i solve this problem..plz mention the correct path\",\n",
        "  # Java:\n",
        "  \"blank getdate date-x days .  possible duplicate:.  anyone know a simple way using blank calendar to subtract x days to a date?  .....i d like to get a date string from newdate, and from days..so the yesterday day looks like this:..sdate=\"\"2011-07-11\"\" .days=-1..next day.sdate=\"\"2011-07-11\"\" .days=+1...public static string getnewdate(string sdate, int days) {..return \"\"2011-07-10\"\" or \"\"2011-07-12\"\"...how can i do this?\",\n",
        "  # JavaScript:\n",
        "  \"why is length equal to 0 in browser before it is defined? i would expect the value of an undefined variable in blank to behave like this when it is logged:....but on jsfiddle it is showing the length is 0 before it is ever defined.....after more research. it also seems to default to 0 in chrome.....when i would expect it to generate an error like with any other randomword....when i run the same commands in node locally, it seems to behave how i would expect. with throwing an error for length:....why is length equal to 0 in these cases?\",\n",
        "  # Python\n",
        "  \"variables keep changing back to their original value inside a while loop i am doing the mitx 6.00.01x course and i am on the second problem set on the 3rd problem and i am stuck. .my code:  ..    balance = 320000.    annualinterestrate = 0.2.    monthlyinterestrate = (annualinterestrate) / 12.0.    monthlyfixedpayment = 0.    empbalance = balance.    lowerbound = round((balance)/12,2).    upperbound = (balance*(1+monthlyinterestrate)**12)/12.    monthlyfixedpayment = round( ( (lowerbound+upperbound)/2) ,2).    while tempbalance != 0: .        monthlyfixedpayment = round( ( (lowerbound+upperbound)/2) ,2)  .        for m in range(12) :.            tempbalance -= monthlyfixedpayment .            tempbalance += (monthlyinterestrate)*(tempbalance).            tempbalance = round(tempbalance,2) .        if tempbalance &gt; 0:.            lowerbound = round(monthlyfixedpayment,2).            tempbalance = balance.        elif tempbalance &lt; 0: .            upperbound = round(monthlyfixedpayment,2).            tempbalance = balance..    print('lowest payment: ' + str(round(monthlyfixedpayment,2)))...my code uses bisection search to generate the monthlyfixedpayment but after i get to the lines at the end that changes the upperbound or lowerbound values and then start the loop again, the lowerbound and upperbound values reset to their values to the ones outside the loop. does anyone knows how to prevent this?\"\n",
        "]\n",
        "\n",
        "export_model.predict(examples)"
      ],
      "metadata": {
        "id": "xTv-DnFwSVJV",
        "outputId": "014080a5-6ab3-4457-911d-77b6f5b94ffb",
        "colab": {
          "base_uri": "https://localhost:8080/"
        }
      },
      "execution_count": null,
      "outputs": [
        {
          "output_type": "stream",
          "name": "stdout",
          "text": [
            "1/1 [==============================] - 0s 59ms/step\n"
          ]
        },
        {
          "output_type": "execute_result",
          "data": {
            "text/plain": [
              "array([[0.34607384, 0.28491294, 0.18689524, 0.18211798],\n",
              "       [0.31545293, 0.3210079 , 0.17447859, 0.18906061],\n",
              "       [0.14903991, 0.08267057, 0.48768097, 0.28060853],\n",
              "       [0.24834482, 0.11493052, 0.244743  , 0.39198166]], dtype=float32)"
            ]
          },
          "metadata": {},
          "execution_count": 87
        }
      ]
    },
    {
      "cell_type": "markdown",
      "source": [
        "As one can see from the results above - running the exported model on a sample from each of the test sets - this model is functioning properly."
      ],
      "metadata": {
        "id": "JHym1i9gV4Ag"
      }
    },
    {
      "cell_type": "markdown",
      "source": [
        "## Finally, improve the performance of the model by either changing the model architecture or through more advanced networks (e.g. LSTM, standard Transformer or Switch Transformers)."
      ],
      "metadata": {
        "id": "yRNWfbn1hMt0"
      }
    },
    {
      "cell_type": "markdown",
      "source": [
        "### Switch Transformern (FNET)"
      ],
      "metadata": {
        "id": "UbOnGO2mhQOc"
      }
    },
    {
      "cell_type": "code",
      "source": [
        "import keras_nlp\n",
        "import keras"
      ],
      "metadata": {
        "id": "9UU_tmCQhuJu"
      },
      "execution_count": 39,
      "outputs": []
    },
    {
      "cell_type": "code",
      "source": [
        "BATCH_SIZE = 64\n",
        "EPOCHS = 15\n",
        "MAX_SEQUENCE_LENGTH = 512\n",
        "VOCAB_SIZE = len(vectorize_layer.get_vocabulary())\n",
        "\n",
        "EMBED_DIM = 128\n",
        "INTERMEDIATE_DIM = 512"
      ],
      "metadata": {
        "id": "RrFUwV1jmJmF"
      },
      "execution_count": 84,
      "outputs": []
    },
    {
      "cell_type": "code",
      "source": [
        "train_ds = keras.utils.text_dataset_from_directory(\n",
        "    'stack_overflow_16k/train',\n",
        "    batch_size=BATCH_SIZE,\n",
        "    validation_split=0.2,\n",
        "    subset=\"training\",\n",
        "    seed=42,\n",
        ")\n",
        "val_ds = keras.utils.text_dataset_from_directory(\n",
        "    'stack_overflow_16k/train',\n",
        "    batch_size=BATCH_SIZE,\n",
        "    validation_split=0.2,\n",
        "    subset=\"validation\",\n",
        "    seed=42,\n",
        ")\n",
        "test_ds = keras.utils.text_dataset_from_directory(\"stack_overflow_16k/test\", batch_size=BATCH_SIZE)"
      ],
      "metadata": {
        "id": "aX7eQ8E8mGTt",
        "outputId": "590ae7c5-ad82-42b4-c943-035291fdfdf3",
        "colab": {
          "base_uri": "https://localhost:8080/"
        }
      },
      "execution_count": 72,
      "outputs": [
        {
          "output_type": "stream",
          "name": "stdout",
          "text": [
            "Found 8000 files belonging to 4 classes.\n",
            "Using 6400 files for training.\n",
            "Found 8000 files belonging to 4 classes.\n",
            "Using 1600 files for validation.\n",
            "Found 8000 files belonging to 4 classes.\n"
          ]
        }
      ]
    },
    {
      "cell_type": "code",
      "source": [
        "train_ds = train_ds.map(lambda x, y: (tf.strings.lower(x), y))\n",
        "val_ds = val_ds.map(lambda x, y: (tf.strings.lower(x), y))\n",
        "test_ds = test_ds.map(lambda x, y: (tf.strings.lower(x), y))"
      ],
      "metadata": {
        "id": "v9IavOcdmZ9Z"
      },
      "execution_count": 73,
      "outputs": []
    },
    {
      "cell_type": "code",
      "source": [
        "for text_batch, label_batch in train_ds.take(1):\n",
        "    for i in range(3):\n",
        "        print(text_batch.numpy()[i])\n",
        "        print(label_batch.numpy()[i])"
      ],
      "metadata": {
        "id": "Yw7qh7gsmbzL",
        "outputId": "e974f919-6c61-4891-8dbd-a42fe24cdb4a",
        "colab": {
          "base_uri": "https://localhost:8080/"
        }
      },
      "execution_count": 74,
      "outputs": [
        {
          "output_type": "stream",
          "name": "stdout",
          "text": [
            "b'\"unboundlocalerror: pygame music play and stop not working (on keydown) i\\'m trying to play and stop a music in my main page...it\\'s kind of weird..from my code,.if the user press \"\"m\"\", suppose, the music should be off..however, the music didn\\'t off. it continue..unboundlocalerror: local variable \\'music_playing\\' referenced before assignment  ...can someone help me with my code?..pickupsound = pygame.mixer.music.load(\\'test.mp3\\').pygame.mixer.music.play(-1).music_playing = true..def mainmenu():.    main = pygame.image.load(\\'menu.jpg\\').    screen.blit(main,(0,0)).    while true:.        pygame.display.update().        for event in pygame.event.get():.            if event.type == pygame.quit:.                pygame.quit().                quit().            if event.type == keydown:.                if event.key == ord(\\'m\\'):.                    if music_playing:.                        pygame.mixer.music.stop().                    else:.                        pygame.mixer.music.play(-1).                    music_playing = not music_playing\"\\n'\n",
            "3\n",
            "b'\"blank code slow skin detection this code changes the color space to lab and using a threshold finds the skin area of an image. but it\\'s ridiculously slow. i don\\'t know how to make it faster ?    ..from colormath.color_objects import *..def skindetection(img, treshold=80, color=[255,20,147]):..    print img.shape.    res=img.copy().    for x in range(img.shape[0]):.        for y in range(img.shape[1]):.            rgbimg=rgbcolor(img[x,y,0],img[x,y,1],img[x,y,2]).            labimg=rgbimg.convert_to(\\'lab\\', debug=false).            if (labimg.lab_l &gt; treshold):.                res[x,y,:]=color.            else: .                res[x,y,:]=img[x,y,:]..    return res\"\\n'\n",
            "3\n",
            "b'\"tkinter how to import multiple functions from a list to another blank file so i have 2 files, scratch.py and scratch_2.py..in scratch.py i have defined 3 functions, and added them to a list..when i import the list with the functions from scratch.py into scracth_2.py and try to call one of the functions it shows that they havent been defined..is it possible to add some functions to a list and only import that list so it contains all the functions? scratch.py and scratch_2.py\"\\n'\n",
            "3\n"
          ]
        }
      ]
    },
    {
      "cell_type": "code",
      "source": [
        "def train_word_piece(ds, vocab_size, reserved_tokens):\n",
        "    word_piece_ds = ds.unbatch().map(lambda x, y: x)\n",
        "    vocab = keras_nlp.tokenizers.compute_word_piece_vocabulary(\n",
        "        word_piece_ds.batch(1000).prefetch(2),\n",
        "        vocabulary_size=vocab_size,\n",
        "        reserved_tokens=reserved_tokens,\n",
        "    )\n",
        "    return vocab"
      ],
      "metadata": {
        "id": "YwmrUJM1lcC1"
      },
      "execution_count": 75,
      "outputs": []
    },
    {
      "cell_type": "code",
      "source": [
        "reserved_tokens = [\"[PAD]\", \"[UNK]\"]\n",
        "train_sentences = [element[0] for element in train_ds]\n",
        "vocab = train_word_piece(train_ds, VOCAB_SIZE, reserved_tokens)"
      ],
      "metadata": {
        "id": "dikgL9BJlc8L"
      },
      "execution_count": 76,
      "outputs": []
    },
    {
      "cell_type": "code",
      "source": [
        "print(\"Tokens: \", vocab[100:110])"
      ],
      "metadata": {
        "id": "PW5c1Lzvmkce",
        "outputId": "90c4a1cc-5ff5-4560-947e-8cf7695c7889",
        "colab": {
          "base_uri": "https://localhost:8080/"
        }
      },
      "execution_count": 77,
      "outputs": [
        {
          "output_type": "stream",
          "name": "stdout",
          "text": [
            "Tokens:  ['ð', 'ò', 'ó', 'õ', 'ö', '÷', 'ø', 'ù', 'ú', 'û']\n"
          ]
        }
      ]
    },
    {
      "cell_type": "code",
      "source": [
        "tokenizer = keras_nlp.tokenizers.WordPieceTokenizer(\n",
        "    vocabulary=vocab,\n",
        "    lowercase=False,\n",
        "    sequence_length=MAX_SEQUENCE_LENGTH,\n",
        ")"
      ],
      "metadata": {
        "id": "55MaUu6Vmm0m"
      },
      "execution_count": 78,
      "outputs": []
    },
    {
      "cell_type": "code",
      "source": [
        "input_sentence_ex = train_ds.take(1).get_single_element()[0][0]\n",
        "input_tokens_ex = tokenizer(input_sentence_ex)\n",
        "\n",
        "print(\"Sentence: \", input_sentence_ex)\n",
        "print(\"Tokens: \", input_tokens_ex)\n",
        "print(\"Recovered text after detokenizing: \", tokenizer.detokenize(input_tokens_ex))"
      ],
      "metadata": {
        "id": "riGdfNLUmpIl",
        "outputId": "b87b637e-24a7-454e-9766-50b4c019bdc0",
        "colab": {
          "base_uri": "https://localhost:8080/"
        }
      },
      "execution_count": 79,
      "outputs": [
        {
          "output_type": "stream",
          "name": "stdout",
          "text": [
            "Sentence:  tf.Tensor(b'\"simple program not giving desired output i am starting to learn blank and i have a simple program to request two numbers from the user and add them together. when i run my program , i get asked for the first number , i type it in and that\\'s it, the program doesn\\'t go any further. i am running it in visual studio..can anyone tell me what i\\'m doing wrong? ..using system;..namespace coding.{.    class program.    {.        static void main(string[] args).        {..            int number1;.            int number2;.            int result;...            console.writeline(\"\"enter first  number to be calculated\"\");.            number1 = convert.toint32(console.readline());...            console.writeline(\"\"enter second  number to be calculated\"\");.            number2 = convert.toint32(console.readline());..            result = number1 + number2;.            console.writeline(\"\"the total is\"\" + \"\" \"\" + result);.        }.    }.}...result screenshot\"\\n', shape=(), dtype=string)\n",
            "Tokens:  tf.Tensor(\n",
            "[   3  719  481  412 1423 1582  489   48  425 1439  383 1767  393  388\n",
            "   48  401   40  719  481  383  807  527  591  417  382  477  388  444\n",
            "  638 1755   15  432   48  529  404  481   13   48  421 1778  394  382\n",
            "  490  451   13   48  448  392  387  388  397    8   58  392   13  382\n",
            "  481  646    8   59  836  468 2653   15   48  425  825  392  387 1570\n",
            " 1514   15   15  416  803  998  475  433   48    8   52  668  558   32\n",
            "   15   15  429  403   28   15   15 1033 1600   15   66   15  400  481\n",
            "   15   66   15  446  434  471    9  395   34   36  551   10   15   66\n",
            "   15   15  399 2588   28   15  399 2817   28   15  399  493   28   15\n",
            "   15   15  453   15  584    9    3    3  507  490  451  383  423 3746\n",
            "    3    3   10   28   15 2588   30  596   15 1624    9  453   15  730\n",
            "    9   10   10   28   15   15   15  453   15  584    9    3    3  507\n",
            "  626  451  383  423 3746    3    3   10   28   15 2817   30  596   15\n",
            " 1624    9  453   15  730    9   10   10   28   15   15  493   30 2588\n",
            "   12 2817   28   15  453   15  584    9    3    3  382  643  385    3\n",
            "    3   12    3    3    3    3   12  493   10   28   15   68   15   68\n",
            "   15   68   15   15   15  493 4174    3    0    0    0    0    0    0\n",
            "    0    0    0    0    0    0    0    0    0    0    0    0    0    0\n",
            "    0    0    0    0    0    0    0    0    0    0    0    0    0    0\n",
            "    0    0    0    0    0    0    0    0    0    0    0    0    0    0\n",
            "    0    0    0    0    0    0    0    0    0    0    0    0    0    0\n",
            "    0    0    0    0    0    0    0    0    0    0    0    0    0    0\n",
            "    0    0    0    0    0    0    0    0    0    0    0    0    0    0\n",
            "    0    0    0    0    0    0    0    0    0    0    0    0    0    0\n",
            "    0    0    0    0    0    0    0    0    0    0    0    0    0    0\n",
            "    0    0    0    0    0    0    0    0    0    0    0    0    0    0\n",
            "    0    0    0    0    0    0    0    0    0    0    0    0    0    0\n",
            "    0    0    0    0    0    0    0    0    0    0    0    0    0    0\n",
            "    0    0    0    0    0    0    0    0    0    0    0    0    0    0\n",
            "    0    0    0    0    0    0    0    0    0    0    0    0    0    0\n",
            "    0    0    0    0    0    0    0    0    0    0    0    0    0    0\n",
            "    0    0    0    0    0    0    0    0    0    0    0    0    0    0\n",
            "    0    0    0    0    0    0    0    0    0    0    0    0    0    0\n",
            "    0    0    0    0    0    0    0    0    0    0    0    0    0    0\n",
            "    0    0    0    0    0    0    0    0    0    0    0    0    0    0\n",
            "    0    0    0    0    0    0    0    0    0    0    0    0    0    0\n",
            "    0    0    0    0    0    0    0    0], shape=(512,), dtype=int32)\n",
            "Recovered text after detokenizing:  tf.Tensor(b'\" simple program not giving desired output i am starting to learn blank and i have a simple program to request two numbers from the user and add them together . when i run my program , i get asked for the first number , i type it in and that \\' s it , the program doesn \\' t go any further . i am running it in visual studio . . can anyone tell me what i \\' m doing wrong ? . . using system ; . . namespace coding . { . class program . { . static void main ( string [ ] args ) . { . . int number1 ; . int number2 ; . int result ; . . . console . writeline ( \" \" enter first number to be calculated \" \" ) ; . number1 = convert . toint32 ( console . readline ( ) ) ; . . . console . writeline ( \" \" enter second number to be calculated \" \" ) ; . number2 = convert . toint32 ( console . readline ( ) ) ; . . result = number1 + number2 ; . console . writeline ( \" \" the total is \" \" + \" \" \" \" + result ) ; . } . } . } . . . result screenshot \" [PAD] [PAD] [PAD] [PAD] [PAD] [PAD] [PAD] [PAD] [PAD] [PAD] [PAD] [PAD] [PAD] [PAD] [PAD] [PAD] [PAD] [PAD] [PAD] [PAD] [PAD] [PAD] [PAD] [PAD] [PAD] [PAD] [PAD] [PAD] [PAD] [PAD] [PAD] [PAD] [PAD] [PAD] [PAD] [PAD] [PAD] [PAD] [PAD] [PAD] [PAD] [PAD] [PAD] [PAD] [PAD] [PAD] [PAD] [PAD] [PAD] [PAD] [PAD] [PAD] [PAD] [PAD] [PAD] [PAD] [PAD] [PAD] [PAD] [PAD] [PAD] [PAD] [PAD] [PAD] [PAD] [PAD] [PAD] [PAD] [PAD] [PAD] [PAD] [PAD] [PAD] [PAD] [PAD] [PAD] [PAD] [PAD] [PAD] [PAD] [PAD] [PAD] [PAD] [PAD] [PAD] [PAD] [PAD] [PAD] [PAD] [PAD] [PAD] [PAD] [PAD] [PAD] [PAD] [PAD] [PAD] [PAD] [PAD] [PAD] [PAD] [PAD] [PAD] [PAD] [PAD] [PAD] [PAD] [PAD] [PAD] [PAD] [PAD] [PAD] [PAD] [PAD] [PAD] [PAD] [PAD] [PAD] [PAD] [PAD] [PAD] [PAD] [PAD] [PAD] [PAD] [PAD] [PAD] [PAD] [PAD] [PAD] [PAD] [PAD] [PAD] [PAD] [PAD] [PAD] [PAD] [PAD] [PAD] [PAD] [PAD] [PAD] [PAD] [PAD] [PAD] [PAD] [PAD] [PAD] [PAD] [PAD] [PAD] [PAD] [PAD] [PAD] [PAD] [PAD] [PAD] [PAD] [PAD] [PAD] [PAD] [PAD] [PAD] [PAD] [PAD] [PAD] [PAD] [PAD] [PAD] [PAD] [PAD] [PAD] [PAD] [PAD] [PAD] [PAD] [PAD] [PAD] [PAD] [PAD] [PAD] [PAD] [PAD] [PAD] [PAD] [PAD] [PAD] [PAD] [PAD] [PAD] [PAD] [PAD] [PAD] [PAD] [PAD] [PAD] [PAD] [PAD] [PAD] [PAD] [PAD] [PAD] [PAD] [PAD] [PAD] [PAD] [PAD] [PAD] [PAD] [PAD] [PAD] [PAD] [PAD] [PAD] [PAD] [PAD] [PAD] [PAD] [PAD] [PAD] [PAD] [PAD] [PAD] [PAD] [PAD] [PAD] [PAD] [PAD] [PAD] [PAD] [PAD] [PAD] [PAD] [PAD] [PAD] [PAD] [PAD] [PAD] [PAD] [PAD] [PAD] [PAD] [PAD] [PAD] [PAD] [PAD] [PAD] [PAD] [PAD] [PAD] [PAD] [PAD] [PAD] [PAD] [PAD] [PAD] [PAD] [PAD] [PAD] [PAD] [PAD] [PAD] [PAD] [PAD] [PAD] [PAD] [PAD] [PAD] [PAD] [PAD] [PAD] [PAD] [PAD] [PAD] [PAD] [PAD] [PAD] [PAD] [PAD] [PAD]', shape=(), dtype=string)\n"
          ]
        }
      ]
    },
    {
      "cell_type": "code",
      "source": [
        "def format_dataset(sentence, label):\n",
        "    sentence = tokenizer(sentence)\n",
        "    return ({\"input_ids\": sentence}, label)\n",
        "\n",
        "\n",
        "def make_dataset(dataset):\n",
        "    dataset = dataset.map(format_dataset, num_parallel_calls=tf.data.AUTOTUNE)\n",
        "    return dataset.shuffle(512).prefetch(16).cache()\n",
        "\n",
        "\n",
        "train_ds = make_dataset(train_ds)\n",
        "val_ds = make_dataset(val_ds)\n",
        "test_ds = make_dataset(test_ds)"
      ],
      "metadata": {
        "id": "uIgGUV3Bmrzt"
      },
      "execution_count": 80,
      "outputs": []
    },
    {
      "cell_type": "code",
      "source": [
        "input_ids = keras.Input(shape=(None,), dtype=\"int64\", name=\"input_ids\")\n",
        "\n",
        "x = keras_nlp.layers.TokenAndPositionEmbedding(\n",
        "    vocabulary_size=VOCAB_SIZE,\n",
        "    sequence_length=MAX_SEQUENCE_LENGTH,\n",
        "    embedding_dim=EMBED_DIM,\n",
        "    mask_zero=True,\n",
        ")(input_ids)\n",
        "\n",
        "x = keras_nlp.layers.FNetEncoder(intermediate_dim=INTERMEDIATE_DIM)(inputs=x)\n",
        "x = keras_nlp.layers.FNetEncoder(intermediate_dim=INTERMEDIATE_DIM)(inputs=x)\n",
        "x = keras_nlp.layers.FNetEncoder(intermediate_dim=INTERMEDIATE_DIM)(inputs=x)\n",
        "\n",
        "\n",
        "x = keras.layers.GlobalAveragePooling1D()(x)\n",
        "x = keras.layers.Dropout(0.1)(x)\n",
        "outputs = keras.layers.Dense(4, activation=\"sigmoid\")(x)\n",
        "\n",
        "fnet_classifier = keras.Model(input_ids, outputs, name=\"fnet_classifier\")"
      ],
      "metadata": {
        "id": "PZe32M2ikQBh"
      },
      "execution_count": 85,
      "outputs": []
    },
    {
      "cell_type": "code",
      "source": [
        "fnet_classifier.summary()\n",
        "fnet_classifier.compile(\n",
        "    optimizer=keras.optimizers.Adam(learning_rate=0.001),\n",
        "    loss=losses.SparseCategoricalCrossentropy(from_logits=True),\n",
        "    metrics=[\"accuracy\"],\n",
        ")\n",
        "history = fnet_classifier.fit(train_ds, epochs=EPOCHS, validation_data=val_ds)"
      ],
      "metadata": {
        "id": "qi4H7Mf7icUU",
        "outputId": "d7f5de0c-de2f-489a-b9ed-5d96f23992ce",
        "colab": {
          "base_uri": "https://localhost:8080/"
        }
      },
      "execution_count": 90,
      "outputs": [
        {
          "output_type": "stream",
          "name": "stdout",
          "text": [
            "Model: \"fnet_classifier\"\n",
            "_________________________________________________________________\n",
            " Layer (type)                Output Shape              Param #   \n",
            "=================================================================\n",
            " input_ids (InputLayer)      [(None, None)]            0         \n",
            "                                                                 \n",
            " token_and_position_embeddi  (None, None, 128)         1345536   \n",
            " ng_5 (TokenAndPositionEmbe                                      \n",
            " dding)                                                          \n",
            "                                                                 \n",
            " f_net_encoder_12 (FNetEnco  (None, None, 128)         132224    \n",
            " der)                                                            \n",
            "                                                                 \n",
            " f_net_encoder_13 (FNetEnco  (None, None, 128)         132224    \n",
            " der)                                                            \n",
            "                                                                 \n",
            " f_net_encoder_14 (FNetEnco  (None, None, 128)         132224    \n",
            " der)                                                            \n",
            "                                                                 \n",
            " global_average_pooling1d_4  (None, 128)               0         \n",
            "  (GlobalAveragePooling1D)                                       \n",
            "                                                                 \n",
            " dropout_6 (Dropout)         (None, 128)               0         \n",
            "                                                                 \n",
            " dense_4 (Dense)             (None, 4)                 516       \n",
            "                                                                 \n",
            "=================================================================\n",
            "Total params: 1742724 (6.65 MB)\n",
            "Trainable params: 1742724 (6.65 MB)\n",
            "Non-trainable params: 0 (0.00 Byte)\n",
            "_________________________________________________________________\n",
            "Epoch 1/15\n"
          ]
        },
        {
          "output_type": "stream",
          "name": "stderr",
          "text": [
            "/usr/local/lib/python3.10/dist-packages/keras/src/backend.py:5729: UserWarning: \"`sparse_categorical_crossentropy` received `from_logits=True`, but the `output` argument was produced by a Softmax activation and thus does not represent logits. Was this intended?\n",
            "  output, from_logits = _get_logits(\n"
          ]
        },
        {
          "output_type": "stream",
          "name": "stdout",
          "text": [
            "100/100 [==============================] - 29s 203ms/step - loss: 0.0174 - accuracy: 0.9948 - val_loss: 0.8076 - val_accuracy: 0.8331\n",
            "Epoch 2/15\n",
            "100/100 [==============================] - 9s 86ms/step - loss: 0.0376 - accuracy: 0.9867 - val_loss: 0.7232 - val_accuracy: 0.8450\n",
            "Epoch 3/15\n",
            "100/100 [==============================] - 8s 85ms/step - loss: 0.0200 - accuracy: 0.9934 - val_loss: 0.8594 - val_accuracy: 0.8281\n",
            "Epoch 4/15\n",
            "100/100 [==============================] - 8s 83ms/step - loss: 0.0210 - accuracy: 0.9930 - val_loss: 1.1195 - val_accuracy: 0.8119\n",
            "Epoch 5/15\n",
            "100/100 [==============================] - 8s 81ms/step - loss: 0.0211 - accuracy: 0.9936 - val_loss: 0.9191 - val_accuracy: 0.8400\n",
            "Epoch 6/15\n",
            "100/100 [==============================] - 8s 79ms/step - loss: 0.0095 - accuracy: 0.9970 - val_loss: 0.9317 - val_accuracy: 0.8344\n",
            "Epoch 7/15\n",
            "100/100 [==============================] - 8s 78ms/step - loss: 0.0045 - accuracy: 0.9987 - val_loss: 1.0173 - val_accuracy: 0.8375\n",
            "Epoch 8/15\n",
            "100/100 [==============================] - 8s 77ms/step - loss: 0.0015 - accuracy: 0.9995 - val_loss: 0.9721 - val_accuracy: 0.8450\n",
            "Epoch 9/15\n",
            "100/100 [==============================] - 8s 78ms/step - loss: 4.6313e-04 - accuracy: 0.9998 - val_loss: 1.0979 - val_accuracy: 0.8350\n",
            "Epoch 10/15\n",
            "100/100 [==============================] - 8s 79ms/step - loss: 4.8109e-04 - accuracy: 0.9998 - val_loss: 0.9984 - val_accuracy: 0.8431\n",
            "Epoch 11/15\n",
            "100/100 [==============================] - 8s 82ms/step - loss: 5.1540e-05 - accuracy: 1.0000 - val_loss: 1.0025 - val_accuracy: 0.8444\n",
            "Epoch 12/15\n",
            "100/100 [==============================] - 8s 80ms/step - loss: 3.0361e-05 - accuracy: 1.0000 - val_loss: 1.0079 - val_accuracy: 0.8444\n",
            "Epoch 13/15\n",
            "100/100 [==============================] - 8s 80ms/step - loss: 2.5850e-05 - accuracy: 1.0000 - val_loss: 1.0116 - val_accuracy: 0.8431\n",
            "Epoch 14/15\n",
            "100/100 [==============================] - 8s 81ms/step - loss: 2.2838e-05 - accuracy: 1.0000 - val_loss: 1.0147 - val_accuracy: 0.8431\n",
            "Epoch 15/15\n",
            "100/100 [==============================] - 9s 86ms/step - loss: 1.9451e-05 - accuracy: 1.0000 - val_loss: 1.0183 - val_accuracy: 0.8438\n"
          ]
        }
      ]
    },
    {
      "cell_type": "code",
      "source": [
        "fnet_classifier.evaluate(test_ds, batch_size=BATCH_SIZE)"
      ],
      "metadata": {
        "id": "frrwbEUim763",
        "outputId": "1f7d8c12-9044-4f5c-fd72-1af34ffb9904",
        "colab": {
          "base_uri": "https://localhost:8080/"
        }
      },
      "execution_count": 91,
      "outputs": [
        {
          "output_type": "stream",
          "name": "stdout",
          "text": [
            "125/125 [==============================] - 4s 28ms/step - loss: 0.9757 - accuracy: 0.8406\n"
          ]
        },
        {
          "output_type": "execute_result",
          "data": {
            "text/plain": [
              "[0.9756547212600708, 0.840624988079071]"
            ]
          },
          "metadata": {},
          "execution_count": 91
        }
      ]
    },
    {
      "cell_type": "code",
      "source": [
        "history_dict = history.history\n",
        "history_dict.keys()\n",
        "\n",
        "acc = history_dict['accuracy']\n",
        "val_acc = history_dict['val_accuracy']\n",
        "loss = history_dict['loss']\n",
        "val_loss = history_dict['val_loss']\n",
        "\n",
        "epochs = range(1, len(acc) + 1)\n",
        "\n",
        "####\n",
        "\n",
        "# \"bo\" is for \"blue dot\"\n",
        "plt.plot(epochs, loss, 'bo', label='Training loss')\n",
        "# b is for \"solid blue line\"\n",
        "plt.plot(epochs, val_loss, 'b', label='Validation loss')\n",
        "plt.title('Training and validation loss')\n",
        "plt.xlabel('Epochs')\n",
        "plt.ylabel('Loss')\n",
        "plt.legend()\n",
        "\n",
        "plt.show()\n",
        "\n",
        "####\n",
        "\n",
        "plt.plot(epochs, acc, 'bo', label='Training acc')\n",
        "plt.plot(epochs, val_acc, 'b', label='Validation acc')\n",
        "plt.title('Training and validation accuracy')\n",
        "plt.xlabel('Epochs')\n",
        "plt.ylabel('Accuracy')\n",
        "plt.legend(loc='lower right')\n",
        "\n",
        "plt.show()"
      ],
      "metadata": {
        "id": "ZHRdfFIVq1BX",
        "outputId": "1176e8eb-b028-4f37-d275-f21aa153b1d5",
        "colab": {
          "base_uri": "https://localhost:8080/",
          "height": 927
        }
      },
      "execution_count": 92,
      "outputs": [
        {
          "output_type": "display_data",
          "data": {
            "text/plain": [
              "<Figure size 640x480 with 1 Axes>"
            ],
            "image/png": "[encoded data removed]"
          },
          "metadata": {}
        },
        {
          "output_type": "display_data",
          "data": {
            "text/plain": [
              "<Figure size 640x480 with 1 Axes>"
            ],
            "image/png": "[encoded data removed]"
          },
          "metadata": {}
        }
      ]
    },
    {
      "cell_type": "markdown",
      "source": [
        "### Compare to Standard Transformer"
      ],
      "metadata": {
        "id": "mRtA7GRUpj9u"
      }
    },
    {
      "cell_type": "code",
      "source": [
        "NUM_HEADS = 2\n",
        "input_ids = keras.Input(shape=(None,), dtype=\"int64\", name=\"input_ids\")\n",
        "\n",
        "\n",
        "x = keras_nlp.layers.TokenAndPositionEmbedding(\n",
        "    vocabulary_size=VOCAB_SIZE,\n",
        "    sequence_length=MAX_SEQUENCE_LENGTH,\n",
        "    embedding_dim=EMBED_DIM,\n",
        "    mask_zero=True,\n",
        ")(input_ids)\n",
        "\n",
        "x = keras_nlp.layers.TransformerEncoder(\n",
        "    intermediate_dim=INTERMEDIATE_DIM, num_heads=NUM_HEADS\n",
        ")(inputs=x)\n",
        "x = keras_nlp.layers.TransformerEncoder(\n",
        "    intermediate_dim=INTERMEDIATE_DIM, num_heads=NUM_HEADS\n",
        ")(inputs=x)\n",
        "x = keras_nlp.layers.TransformerEncoder(\n",
        "    intermediate_dim=INTERMEDIATE_DIM, num_heads=NUM_HEADS\n",
        ")(inputs=x)\n",
        "\n",
        "\n",
        "x = keras.layers.GlobalAveragePooling1D()(x)\n",
        "x = keras.layers.Dropout(0.1)(x)\n",
        "outputs = keras.layers.Dense(4, activation=\"sigmoid\")(x)\n",
        "\n",
        "transformer_classifier = keras.Model(input_ids, outputs, name=\"transformer_classifier\")\n",
        "\n",
        "\n",
        "transformer_classifier.summary()\n",
        "transformer_classifier.compile(\n",
        "    optimizer=keras.optimizers.Adam(learning_rate=0.001),\n",
        "    loss=losses.SparseCategoricalCrossentropy(from_logits=True),\n",
        "    metrics=[\"accuracy\"],\n",
        ")\n",
        "history = transformer_classifier.fit(train_ds, epochs=EPOCHS, validation_data=val_ds)"
      ],
      "metadata": {
        "id": "2F5IVSo3i-k4",
        "outputId": "32a5956e-d521-49ed-d10a-9cea5da82f65",
        "colab": {
          "base_uri": "https://localhost:8080/"
        }
      },
      "execution_count": 94,
      "outputs": [
        {
          "output_type": "stream",
          "name": "stdout",
          "text": [
            "Model: \"transformer_classifier\"\n",
            "_________________________________________________________________\n",
            " Layer (type)                Output Shape              Param #   \n",
            "=================================================================\n",
            " input_ids (InputLayer)      [(None, None)]            0         \n",
            "                                                                 \n",
            " token_and_position_embeddi  (None, None, 128)         1345536   \n",
            " ng_7 (TokenAndPositionEmbe                                      \n",
            " dding)                                                          \n",
            "                                                                 \n",
            " transformer_encoder_3 (Tra  (None, None, 128)         198272    \n",
            " nsformerEncoder)                                                \n",
            "                                                                 \n",
            " transformer_encoder_4 (Tra  (None, None, 128)         198272    \n",
            " nsformerEncoder)                                                \n",
            "                                                                 \n",
            " transformer_encoder_5 (Tra  (None, None, 128)         198272    \n",
            " nsformerEncoder)                                                \n",
            "                                                                 \n",
            " global_average_pooling1d_6  (None, 128)               0         \n",
            "  (GlobalAveragePooling1D)                                       \n",
            "                                                                 \n",
            " dropout_8 (Dropout)         (None, 128)               0         \n",
            "                                                                 \n",
            " dense_6 (Dense)             (None, 4)                 516       \n",
            "                                                                 \n",
            "=================================================================\n",
            "Total params: 1940868 (7.40 MB)\n",
            "Trainable params: 1940868 (7.40 MB)\n",
            "Non-trainable params: 0 (0.00 Byte)\n",
            "_________________________________________________________________\n",
            "Epoch 1/15\n"
          ]
        },
        {
          "output_type": "stream",
          "name": "stderr",
          "text": [
            "/usr/local/lib/python3.10/dist-packages/keras/src/backend.py:5729: UserWarning: \"`sparse_categorical_crossentropy` received `from_logits=True`, but the `output` argument was produced by a Softmax activation and thus does not represent logits. Was this intended?\n",
            "  output, from_logits = _get_logits(\n"
          ]
        },
        {
          "output_type": "stream",
          "name": "stdout",
          "text": [
            "100/100 [==============================] - 32s 201ms/step - loss: 0.9943 - accuracy: 0.5972 - val_loss: 0.5546 - val_accuracy: 0.7819\n",
            "Epoch 2/15\n",
            "100/100 [==============================] - 16s 157ms/step - loss: 0.3212 - accuracy: 0.8867 - val_loss: 0.5152 - val_accuracy: 0.8300\n",
            "Epoch 3/15\n",
            "100/100 [==============================] - 16s 157ms/step - loss: 0.1783 - accuracy: 0.9372 - val_loss: 0.6205 - val_accuracy: 0.8406\n",
            "Epoch 4/15\n",
            "100/100 [==============================] - 15s 155ms/step - loss: 0.1469 - accuracy: 0.9498 - val_loss: 0.6833 - val_accuracy: 0.8462\n",
            "Epoch 5/15\n",
            "100/100 [==============================] - 15s 154ms/step - loss: 0.0888 - accuracy: 0.9691 - val_loss: 0.6864 - val_accuracy: 0.8444\n",
            "Epoch 6/15\n",
            "100/100 [==============================] - 15s 154ms/step - loss: 0.0532 - accuracy: 0.9811 - val_loss: 0.8348 - val_accuracy: 0.8363\n",
            "Epoch 7/15\n",
            "100/100 [==============================] - 15s 155ms/step - loss: 0.0461 - accuracy: 0.9817 - val_loss: 0.7969 - val_accuracy: 0.8512\n",
            "Epoch 8/15\n",
            "100/100 [==============================] - 15s 155ms/step - loss: 0.0234 - accuracy: 0.9923 - val_loss: 0.9542 - val_accuracy: 0.8494\n",
            "Epoch 9/15\n",
            "100/100 [==============================] - 16s 155ms/step - loss: 0.0188 - accuracy: 0.9947 - val_loss: 0.8575 - val_accuracy: 0.8506\n",
            "Epoch 10/15\n",
            "100/100 [==============================] - 16s 159ms/step - loss: 0.0276 - accuracy: 0.9912 - val_loss: 0.9674 - val_accuracy: 0.8419\n",
            "Epoch 11/15\n",
            "100/100 [==============================] - 16s 159ms/step - loss: 0.0217 - accuracy: 0.9914 - val_loss: 1.0989 - val_accuracy: 0.8288\n",
            "Epoch 12/15\n",
            "100/100 [==============================] - 16s 157ms/step - loss: 0.0105 - accuracy: 0.9962 - val_loss: 1.0346 - val_accuracy: 0.8394\n",
            "Epoch 13/15\n",
            "100/100 [==============================] - 17s 168ms/step - loss: 0.0064 - accuracy: 0.9983 - val_loss: 0.9712 - val_accuracy: 0.8506\n",
            "Epoch 14/15\n",
            "100/100 [==============================] - 17s 166ms/step - loss: 0.0057 - accuracy: 0.9984 - val_loss: 1.0271 - val_accuracy: 0.8425\n",
            "Epoch 15/15\n",
            "100/100 [==============================] - 17s 166ms/step - loss: 0.0056 - accuracy: 0.9984 - val_loss: 0.9846 - val_accuracy: 0.8494\n"
          ]
        }
      ]
    },
    {
      "cell_type": "code",
      "source": [
        "transformer_classifier.evaluate(test_ds, batch_size=BATCH_SIZE)"
      ],
      "metadata": {
        "id": "-YbNaDxNp2s3",
        "outputId": "156d61dc-2641-4415-a86e-c7d1339484dd",
        "colab": {
          "base_uri": "https://localhost:8080/"
        }
      },
      "execution_count": 95,
      "outputs": [
        {
          "output_type": "stream",
          "name": "stdout",
          "text": [
            "125/125 [==============================] - 8s 63ms/step - loss: 1.0539 - accuracy: 0.8443\n"
          ]
        },
        {
          "output_type": "execute_result",
          "data": {
            "text/plain": [
              "[1.0539448261260986, 0.8442500233650208]"
            ]
          },
          "metadata": {},
          "execution_count": 95
        }
      ]
    },
    {
      "cell_type": "code",
      "source": [
        "history_dict = history.history\n",
        "history_dict.keys()\n",
        "\n",
        "acc = history_dict['accuracy']\n",
        "val_acc = history_dict['val_accuracy']\n",
        "loss = history_dict['loss']\n",
        "val_loss = history_dict['val_loss']\n",
        "\n",
        "epochs = range(1, len(acc) + 1)\n",
        "\n",
        "####\n",
        "\n",
        "# \"bo\" is for \"blue dot\"\n",
        "plt.plot(epochs, loss, 'bo', label='Training loss')\n",
        "# b is for \"solid blue line\"\n",
        "plt.plot(epochs, val_loss, 'b', label='Validation loss')\n",
        "plt.title('Training and validation loss')\n",
        "plt.xlabel('Epochs')\n",
        "plt.ylabel('Loss')\n",
        "plt.legend()\n",
        "\n",
        "plt.show()\n",
        "\n",
        "####\n",
        "\n",
        "plt.plot(epochs, acc, 'bo', label='Training acc')\n",
        "plt.plot(epochs, val_acc, 'b', label='Validation acc')\n",
        "plt.title('Training and validation accuracy')\n",
        "plt.xlabel('Epochs')\n",
        "plt.ylabel('Accuracy')\n",
        "plt.legend(loc='lower right')\n",
        "\n",
        "plt.show()"
      ],
      "metadata": {
        "id": "BO4xYiLTp-Zc",
        "outputId": "40a1ab3a-f017-4cf6-ef42-989eeaf157a1",
        "colab": {
          "base_uri": "https://localhost:8080/",
          "height": 927
        }
      },
      "execution_count": 96,
      "outputs": [
        {
          "output_type": "display_data",
          "data": {
            "text/plain": [
              "<Figure size 640x480 with 1 Axes>"
            ],
            "image/png": "[encoded data removed]"
          },
          "metadata": {}
        },
        {
          "output_type": "display_data",
          "data": {
            "text/plain": [
              "<Figure size 640x480 with 1 Axes>"
            ],
            "image/png": "[encoded data removed]"
          },
          "metadata": {}
        }
      ]
    },
    {
      "cell_type": "markdown",
      "source": [
        "The Switch Transformer and the Standard Transformer appear to achieve the same level of accuracy (~85%)  on the validation set. However, the Switch Transformer does train faster. This is due to the self-attention mechanism in the Transform being an expensive operation, with a time complexity of O(n^2), where n is the number of tokens in the input. The Switch Transformer on the other hand has a simpler Fourier Transform layer which is more computationally efficient. However, both models show clear signs of overfitting. The validation loss does not improve while the training loss continues to decrease. The prior model did not show the same magitude of overfitting however we did achieve 10% higher accruacy with these models. The overfitting could be resolved with different sampling and/or data augmentations. These models achieved higher accuracy 1) for the Stanard Transformer the self-attention mechanism for computing rich embeddings for input text 2) for the Switch Transformer due to the replacment of the self-attention layer in Transformer with a simple Fourier Transform layer for \"token mixing\" which has proven to achieve comparable accuracy and a speed-up during training."
      ],
      "metadata": {
        "id": "u8aGSmGFrh5Z"
      }
    },
    {
      "cell_type": "code",
      "source": [],
      "metadata": {
        "id": "KF_ZnlRhuuV8"
      },
      "execution_count": null,
      "outputs": []
    }
  ],
  "metadata": {
    "accelerator": "GPU",
    "colab": {
      "name": "text_classification.ipynb",
      "provenance": []
    },
    "kernelspec": {
      "display_name": "Python 3",
      "name": "python3"
    },
    "language_info": {
      "codemirror_mode": {
        "name": "ipython",
        "version": 3
      },
      "file_extension": ".py",
      "mimetype": "text/x-python",
      "name": "python",
      "nbconvert_exporter": "python",
      "pygments_lexer": "ipython3",
      "version": "3.9.18"
    }
  },
  "nbformat": 4,
  "nbformat_minor": 0
}